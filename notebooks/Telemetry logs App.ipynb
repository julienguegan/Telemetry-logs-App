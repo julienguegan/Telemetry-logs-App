{
 "cells": [
  {
   "cell_type": "code",
   "execution_count": 1,
   "metadata": {
    "ExecuteTime": {
     "end_time": "2021-01-07T19:25:34.451157Z",
     "start_time": "2021-01-07T19:25:30.769595Z"
    }
   },
   "outputs": [],
   "source": [
    "import pandas as pd\n",
    "import os\n",
    "import glob\n",
    "import numpy as np\n",
    "import ipyvuetify as v\n",
    "import ipywidgets as widgets\n",
    "from ipywidgets import Layout, Button, Box, VBox, HBox\n",
    "from ipyleaflet import AwesomeIcon, Marker, Map, Icon, Popup, basemaps, Polyline\n",
    "from bqplot import Axis, Figure, Lines, LinearScale\n",
    "import bqplot as bq\n",
    "import matplotlib.pyplot as plt\n",
    "import matplotlib as mpl\n",
    "import io\n",
    "#from stl import mesh\n",
    "#import ipyvolume as ipv"
   ]
  },
  {
   "cell_type": "code",
   "execution_count": 2,
   "metadata": {
    "ExecuteTime": {
     "end_time": "2021-01-07T19:25:34.466118Z",
     "start_time": "2021-01-07T19:25:34.454150Z"
    }
   },
   "outputs": [],
   "source": [
    "# TO DO : add title, image (inav, x-lite, moi qui vole sur l'aile)\n",
    "# sort value before fitting ? it will destroy time slider interaction ?\n",
    "# add HD video visualisation"
   ]
  },
  {
   "cell_type": "code",
   "execution_count": 3,
   "metadata": {
    "ExecuteTime": {
     "end_time": "2021-01-07T19:25:36.134656Z",
     "start_time": "2021-01-07T19:25:34.469111Z"
    }
   },
   "outputs": [
    {
     "data": {
      "application/vnd.jupyter.widget-view+json": {
       "model_id": "a5a4d534b71940cc88bf1820d7589c8c",
       "version_major": 2,
       "version_minor": 0
      },
      "text/plain": [
       "HTML(value='<center> <img src=\"images/gaju_fpv.gif\" align=\"middle\" class=\"center\"> </center>')"
      ]
     },
     "metadata": {},
     "output_type": "display_data"
    }
   ],
   "source": [
    "widgets.HTML('<center> <img src=\"images/gaju_fpv.gif\" align=\"middle\" class=\"center\"> </center>')"
   ]
  },
  {
   "cell_type": "code",
   "execution_count": 4,
   "metadata": {
    "ExecuteTime": {
     "end_time": "2021-01-07T19:25:37.121017Z",
     "start_time": "2021-01-07T19:25:36.137649Z"
    }
   },
   "outputs": [],
   "source": [
    "def get_rssi(RSSI, dist):\n",
    "    [a,b] = np.polyfit(np.log(dist), RSSI, 1)\n",
    "    rssi_time = a * np.log(dist) + b\n",
    "    rssi_dist = a * np.log(np.sort(dist)) + b\n",
    "    return rssi_time, rssi_dist\n",
    "\n",
    "def get_max(data, data_type='str'):\n",
    "    max_dist  = np.max(data['Dist(m)'])\n",
    "    max_speed = np.max(data['GSpd(kmh)'])\n",
    "    max_alt   = np.max(data['Alt(m)'])\n",
    "    if data_type==\"str\":\n",
    "        max_dist  = str(max_dist)\n",
    "        max_speed = str(max_speed)\n",
    "        max_alt   = str(max_alt)\n",
    "    return max_dist, max_speed, max_alt"
   ]
  },
  {
   "cell_type": "code",
   "execution_count": 5,
   "metadata": {
    "ExecuteTime": {
     "end_time": "2021-01-07T19:25:37.465097Z",
     "start_time": "2021-01-07T19:25:37.123012Z"
    }
   },
   "outputs": [],
   "source": [
    "files = glob.glob('logs/*.csv')"
   ]
  },
  {
   "cell_type": "code",
   "execution_count": 7,
   "metadata": {
    "ExecuteTime": {
     "end_time": "2021-01-07T19:26:17.166284Z",
     "start_time": "2021-01-07T19:26:16.870036Z"
    }
   },
   "outputs": [
    {
     "name": "stdout",
     "output_type": "stream",
     "text": [
      "logs\\AR_Wing-2020-08-11.csv\n",
      "logs\\AR_Wing-2020-08-13.csv\n",
      "logs\\AR_Wing-2020-08-18.csv\n",
      "logs\\AR_Wing-2020-08-24.csv\n",
      "logs\\AR_Wing-2020-08-26.csv\n",
      "logs\\AR_Wing-2020-08-26_2.csv\n",
      "logs\\AR_Wing-2020-08-30.csv\n",
      "logs\\AR_Wing-2020-08-31.csv\n",
      "logs\\AR_Wing-2020-08-31_2.csv\n",
      "logs\\AR_Wing-2020-08-31_3.csv\n",
      "logs\\AR_Wing-2020-09-06_1.csv\n",
      "logs\\AR_Wing-2020-09-06_2.csv\n",
      "logs\\AR_Wing-2020-10-16.csv\n",
      "logs\\AR_Wing-2020-11-14.csv\n",
      "logs\\AR_Wing-2020-11-14_2.csv\n",
      "logs\\AR_Wing-2020-11-14_3.csv\n",
      "logs\\AR_Wing-2020-11-14_4.csv\n",
      "logs\\AR_Wing-2020-11-14_5.csv\n",
      "logs\\AR_Wing-2021-01-01.csv\n",
      "logs\\AR_Wing-2021-01-01_bis.csv\n",
      "logs\\AR_Wing-2021-01-03.csv\n"
     ]
    },
    {
     "ename": "KeyError",
     "evalue": "'Dist(m)'",
     "output_type": "error",
     "traceback": [
      "\u001b[1;31m---------------------------------------------------------------------------\u001b[0m",
      "\u001b[1;31mKeyError\u001b[0m                                  Traceback (most recent call last)",
      "\u001b[1;32m~\\Anaconda3\\lib\\site-packages\\pandas\\core\\indexes\\base.py\u001b[0m in \u001b[0;36mget_loc\u001b[1;34m(self, key, method, tolerance)\u001b[0m\n\u001b[0;32m   2896\u001b[0m             \u001b[1;32mtry\u001b[0m\u001b[1;33m:\u001b[0m\u001b[1;33m\u001b[0m\u001b[1;33m\u001b[0m\u001b[0m\n\u001b[1;32m-> 2897\u001b[1;33m                 \u001b[1;32mreturn\u001b[0m \u001b[0mself\u001b[0m\u001b[1;33m.\u001b[0m\u001b[0m_engine\u001b[0m\u001b[1;33m.\u001b[0m\u001b[0mget_loc\u001b[0m\u001b[1;33m(\u001b[0m\u001b[0mkey\u001b[0m\u001b[1;33m)\u001b[0m\u001b[1;33m\u001b[0m\u001b[1;33m\u001b[0m\u001b[0m\n\u001b[0m\u001b[0;32m   2898\u001b[0m             \u001b[1;32mexcept\u001b[0m \u001b[0mKeyError\u001b[0m\u001b[1;33m:\u001b[0m\u001b[1;33m\u001b[0m\u001b[1;33m\u001b[0m\u001b[0m\n",
      "\u001b[1;32mpandas\\_libs\\index.pyx\u001b[0m in \u001b[0;36mpandas._libs.index.IndexEngine.get_loc\u001b[1;34m()\u001b[0m\n",
      "\u001b[1;32mpandas\\_libs\\index.pyx\u001b[0m in \u001b[0;36mpandas._libs.index.IndexEngine.get_loc\u001b[1;34m()\u001b[0m\n",
      "\u001b[1;32mpandas\\_libs\\hashtable_class_helper.pxi\u001b[0m in \u001b[0;36mpandas._libs.hashtable.PyObjectHashTable.get_item\u001b[1;34m()\u001b[0m\n",
      "\u001b[1;32mpandas\\_libs\\hashtable_class_helper.pxi\u001b[0m in \u001b[0;36mpandas._libs.hashtable.PyObjectHashTable.get_item\u001b[1;34m()\u001b[0m\n",
      "\u001b[1;31mKeyError\u001b[0m: 'Dist(m)'",
      "\nDuring handling of the above exception, another exception occurred:\n",
      "\u001b[1;31mKeyError\u001b[0m                                  Traceback (most recent call last)",
      "\u001b[1;32m<ipython-input-7-628c52d8cbf4>\u001b[0m in \u001b[0;36m<module>\u001b[1;34m\u001b[0m\n\u001b[0;32m      4\u001b[0m     \u001b[0mdata\u001b[0m \u001b[1;33m=\u001b[0m \u001b[0mpd\u001b[0m\u001b[1;33m.\u001b[0m\u001b[0mread_csv\u001b[0m\u001b[1;33m(\u001b[0m\u001b[0mfile\u001b[0m\u001b[1;33m,\u001b[0m \u001b[0msep\u001b[0m\u001b[1;33m=\u001b[0m\u001b[1;34m';'\u001b[0m\u001b[1;33m)\u001b[0m\u001b[1;33m\u001b[0m\u001b[1;33m\u001b[0m\u001b[0m\n\u001b[0;32m      5\u001b[0m     \u001b[0mprint\u001b[0m\u001b[1;33m(\u001b[0m\u001b[0mfile\u001b[0m\u001b[1;33m)\u001b[0m\u001b[1;33m\u001b[0m\u001b[1;33m\u001b[0m\u001b[0m\n\u001b[1;32m----> 6\u001b[1;33m     \u001b[0mnew_dist\u001b[0m\u001b[1;33m,\u001b[0m \u001b[0mnew_speed\u001b[0m\u001b[1;33m,\u001b[0m \u001b[0mnew_alt\u001b[0m \u001b[1;33m=\u001b[0m \u001b[0mget_max\u001b[0m\u001b[1;33m(\u001b[0m\u001b[0mdata\u001b[0m\u001b[1;33m,\u001b[0m \u001b[0mdata_type\u001b[0m\u001b[1;33m=\u001b[0m\u001b[1;34m'int'\u001b[0m\u001b[1;33m)\u001b[0m\u001b[1;33m\u001b[0m\u001b[1;33m\u001b[0m\u001b[0m\n\u001b[0m\u001b[0;32m      7\u001b[0m     \u001b[0mmax_dist_tot\u001b[0m  \u001b[1;33m=\u001b[0m \u001b[0mnp\u001b[0m\u001b[1;33m.\u001b[0m\u001b[0mmax\u001b[0m\u001b[1;33m(\u001b[0m\u001b[1;33m[\u001b[0m\u001b[0mmax_dist_tot\u001b[0m\u001b[1;33m,\u001b[0m\u001b[0mnew_dist\u001b[0m\u001b[1;33m]\u001b[0m\u001b[1;33m)\u001b[0m\u001b[1;33m\u001b[0m\u001b[1;33m\u001b[0m\u001b[0m\n\u001b[0;32m      8\u001b[0m     \u001b[0mmax_speed_tot\u001b[0m \u001b[1;33m=\u001b[0m \u001b[0mnp\u001b[0m\u001b[1;33m.\u001b[0m\u001b[0mmax\u001b[0m\u001b[1;33m(\u001b[0m\u001b[1;33m[\u001b[0m\u001b[0mmax_speed_tot\u001b[0m\u001b[1;33m,\u001b[0m\u001b[0mnew_speed\u001b[0m\u001b[1;33m]\u001b[0m\u001b[1;33m)\u001b[0m\u001b[1;33m\u001b[0m\u001b[1;33m\u001b[0m\u001b[0m\n",
      "\u001b[1;32m<ipython-input-4-f51da4efb98f>\u001b[0m in \u001b[0;36mget_max\u001b[1;34m(data, data_type)\u001b[0m\n\u001b[0;32m      6\u001b[0m \u001b[1;33m\u001b[0m\u001b[0m\n\u001b[0;32m      7\u001b[0m \u001b[1;32mdef\u001b[0m \u001b[0mget_max\u001b[0m\u001b[1;33m(\u001b[0m\u001b[0mdata\u001b[0m\u001b[1;33m,\u001b[0m \u001b[0mdata_type\u001b[0m\u001b[1;33m=\u001b[0m\u001b[1;34m'str'\u001b[0m\u001b[1;33m)\u001b[0m\u001b[1;33m:\u001b[0m\u001b[1;33m\u001b[0m\u001b[1;33m\u001b[0m\u001b[0m\n\u001b[1;32m----> 8\u001b[1;33m     \u001b[0mmax_dist\u001b[0m  \u001b[1;33m=\u001b[0m \u001b[0mnp\u001b[0m\u001b[1;33m.\u001b[0m\u001b[0mmax\u001b[0m\u001b[1;33m(\u001b[0m\u001b[0mdata\u001b[0m\u001b[1;33m[\u001b[0m\u001b[1;34m'Dist(m)'\u001b[0m\u001b[1;33m]\u001b[0m\u001b[1;33m)\u001b[0m\u001b[1;33m\u001b[0m\u001b[1;33m\u001b[0m\u001b[0m\n\u001b[0m\u001b[0;32m      9\u001b[0m     \u001b[0mmax_speed\u001b[0m \u001b[1;33m=\u001b[0m \u001b[0mnp\u001b[0m\u001b[1;33m.\u001b[0m\u001b[0mmax\u001b[0m\u001b[1;33m(\u001b[0m\u001b[0mdata\u001b[0m\u001b[1;33m[\u001b[0m\u001b[1;34m'GSpd(kmh)'\u001b[0m\u001b[1;33m]\u001b[0m\u001b[1;33m)\u001b[0m\u001b[1;33m\u001b[0m\u001b[1;33m\u001b[0m\u001b[0m\n\u001b[0;32m     10\u001b[0m     \u001b[0mmax_alt\u001b[0m   \u001b[1;33m=\u001b[0m \u001b[0mnp\u001b[0m\u001b[1;33m.\u001b[0m\u001b[0mmax\u001b[0m\u001b[1;33m(\u001b[0m\u001b[0mdata\u001b[0m\u001b[1;33m[\u001b[0m\u001b[1;34m'Alt(m)'\u001b[0m\u001b[1;33m]\u001b[0m\u001b[1;33m)\u001b[0m\u001b[1;33m\u001b[0m\u001b[1;33m\u001b[0m\u001b[0m\n",
      "\u001b[1;32m~\\Anaconda3\\lib\\site-packages\\pandas\\core\\frame.py\u001b[0m in \u001b[0;36m__getitem__\u001b[1;34m(self, key)\u001b[0m\n\u001b[0;32m   2978\u001b[0m             \u001b[1;32mif\u001b[0m \u001b[0mself\u001b[0m\u001b[1;33m.\u001b[0m\u001b[0mcolumns\u001b[0m\u001b[1;33m.\u001b[0m\u001b[0mnlevels\u001b[0m \u001b[1;33m>\u001b[0m \u001b[1;36m1\u001b[0m\u001b[1;33m:\u001b[0m\u001b[1;33m\u001b[0m\u001b[1;33m\u001b[0m\u001b[0m\n\u001b[0;32m   2979\u001b[0m                 \u001b[1;32mreturn\u001b[0m \u001b[0mself\u001b[0m\u001b[1;33m.\u001b[0m\u001b[0m_getitem_multilevel\u001b[0m\u001b[1;33m(\u001b[0m\u001b[0mkey\u001b[0m\u001b[1;33m)\u001b[0m\u001b[1;33m\u001b[0m\u001b[1;33m\u001b[0m\u001b[0m\n\u001b[1;32m-> 2980\u001b[1;33m             \u001b[0mindexer\u001b[0m \u001b[1;33m=\u001b[0m \u001b[0mself\u001b[0m\u001b[1;33m.\u001b[0m\u001b[0mcolumns\u001b[0m\u001b[1;33m.\u001b[0m\u001b[0mget_loc\u001b[0m\u001b[1;33m(\u001b[0m\u001b[0mkey\u001b[0m\u001b[1;33m)\u001b[0m\u001b[1;33m\u001b[0m\u001b[1;33m\u001b[0m\u001b[0m\n\u001b[0m\u001b[0;32m   2981\u001b[0m             \u001b[1;32mif\u001b[0m \u001b[0mis_integer\u001b[0m\u001b[1;33m(\u001b[0m\u001b[0mindexer\u001b[0m\u001b[1;33m)\u001b[0m\u001b[1;33m:\u001b[0m\u001b[1;33m\u001b[0m\u001b[1;33m\u001b[0m\u001b[0m\n\u001b[0;32m   2982\u001b[0m                 \u001b[0mindexer\u001b[0m \u001b[1;33m=\u001b[0m \u001b[1;33m[\u001b[0m\u001b[0mindexer\u001b[0m\u001b[1;33m]\u001b[0m\u001b[1;33m\u001b[0m\u001b[1;33m\u001b[0m\u001b[0m\n",
      "\u001b[1;32m~\\Anaconda3\\lib\\site-packages\\pandas\\core\\indexes\\base.py\u001b[0m in \u001b[0;36mget_loc\u001b[1;34m(self, key, method, tolerance)\u001b[0m\n\u001b[0;32m   2897\u001b[0m                 \u001b[1;32mreturn\u001b[0m \u001b[0mself\u001b[0m\u001b[1;33m.\u001b[0m\u001b[0m_engine\u001b[0m\u001b[1;33m.\u001b[0m\u001b[0mget_loc\u001b[0m\u001b[1;33m(\u001b[0m\u001b[0mkey\u001b[0m\u001b[1;33m)\u001b[0m\u001b[1;33m\u001b[0m\u001b[1;33m\u001b[0m\u001b[0m\n\u001b[0;32m   2898\u001b[0m             \u001b[1;32mexcept\u001b[0m \u001b[0mKeyError\u001b[0m\u001b[1;33m:\u001b[0m\u001b[1;33m\u001b[0m\u001b[1;33m\u001b[0m\u001b[0m\n\u001b[1;32m-> 2899\u001b[1;33m                 \u001b[1;32mreturn\u001b[0m \u001b[0mself\u001b[0m\u001b[1;33m.\u001b[0m\u001b[0m_engine\u001b[0m\u001b[1;33m.\u001b[0m\u001b[0mget_loc\u001b[0m\u001b[1;33m(\u001b[0m\u001b[0mself\u001b[0m\u001b[1;33m.\u001b[0m\u001b[0m_maybe_cast_indexer\u001b[0m\u001b[1;33m(\u001b[0m\u001b[0mkey\u001b[0m\u001b[1;33m)\u001b[0m\u001b[1;33m)\u001b[0m\u001b[1;33m\u001b[0m\u001b[1;33m\u001b[0m\u001b[0m\n\u001b[0m\u001b[0;32m   2900\u001b[0m         \u001b[0mindexer\u001b[0m \u001b[1;33m=\u001b[0m \u001b[0mself\u001b[0m\u001b[1;33m.\u001b[0m\u001b[0mget_indexer\u001b[0m\u001b[1;33m(\u001b[0m\u001b[1;33m[\u001b[0m\u001b[0mkey\u001b[0m\u001b[1;33m]\u001b[0m\u001b[1;33m,\u001b[0m \u001b[0mmethod\u001b[0m\u001b[1;33m=\u001b[0m\u001b[0mmethod\u001b[0m\u001b[1;33m,\u001b[0m \u001b[0mtolerance\u001b[0m\u001b[1;33m=\u001b[0m\u001b[0mtolerance\u001b[0m\u001b[1;33m)\u001b[0m\u001b[1;33m\u001b[0m\u001b[1;33m\u001b[0m\u001b[0m\n\u001b[0;32m   2901\u001b[0m         \u001b[1;32mif\u001b[0m \u001b[0mindexer\u001b[0m\u001b[1;33m.\u001b[0m\u001b[0mndim\u001b[0m \u001b[1;33m>\u001b[0m \u001b[1;36m1\u001b[0m \u001b[1;32mor\u001b[0m \u001b[0mindexer\u001b[0m\u001b[1;33m.\u001b[0m\u001b[0msize\u001b[0m \u001b[1;33m>\u001b[0m \u001b[1;36m1\u001b[0m\u001b[1;33m:\u001b[0m\u001b[1;33m\u001b[0m\u001b[1;33m\u001b[0m\u001b[0m\n",
      "\u001b[1;32mpandas\\_libs\\index.pyx\u001b[0m in \u001b[0;36mpandas._libs.index.IndexEngine.get_loc\u001b[1;34m()\u001b[0m\n",
      "\u001b[1;32mpandas\\_libs\\index.pyx\u001b[0m in \u001b[0;36mpandas._libs.index.IndexEngine.get_loc\u001b[1;34m()\u001b[0m\n",
      "\u001b[1;32mpandas\\_libs\\hashtable_class_helper.pxi\u001b[0m in \u001b[0;36mpandas._libs.hashtable.PyObjectHashTable.get_item\u001b[1;34m()\u001b[0m\n",
      "\u001b[1;32mpandas\\_libs\\hashtable_class_helper.pxi\u001b[0m in \u001b[0;36mpandas._libs.hashtable.PyObjectHashTable.get_item\u001b[1;34m()\u001b[0m\n",
      "\u001b[1;31mKeyError\u001b[0m: 'Dist(m)'"
     ]
    }
   ],
   "source": [
    "# Get max stats\n",
    "max_dist_tot, max_speed_tot, max_alt_tot = 0, 0, 0\n",
    "for file in files:\n",
    "    data = pd.read_csv(file, sep=';')\n",
    "    print(file)\n",
    "    new_dist, new_speed, new_alt = get_max(data, data_type='int')\n",
    "    max_dist_tot  = np.max([max_dist_tot,new_dist])\n",
    "    max_speed_tot = np.max([max_speed_tot,new_speed])\n",
    "    max_alt_tot   = np.max([max_alt_tot,new_alt])\n",
    "max_dist_tot  = str(max_dist_tot)\n",
    "max_speed_tot = str(max_speed_tot)\n",
    "max_alt_tot   = str(max_alt_tot)"
   ]
  },
  {
   "cell_type": "code",
   "execution_count": null,
   "metadata": {
    "ExecuteTime": {
     "end_time": "2021-01-07T19:25:38.569145Z",
     "start_time": "2021-01-07T19:25:30.723Z"
    }
   },
   "outputs": [],
   "source": [
    "class TelemetryData:\n",
    "    def __init__(self):\n",
    "        self.dist, self.rssi = [], []\n",
    "        self.lon, self.lat   = [], []\n",
    "        self.time = []\n",
    "        self.rssi_time, self.rssi_dist = [], []\n",
    "        self.dist, self.speed, self.alt = 0, 0, 0\n",
    "        self.max_dist, self.max_speed, self.max_alt = 0, 0, 0\n",
    "        self.data = []\n",
    "    def get_data(self, file):\n",
    "        self.data = pd.read_csv(file, sep=';', parse_dates=[0,1] , infer_datetime_format=True)\n",
    "        #self.data = data.interpolate(method='nearest', column=['GPS(lat)','GPS(lon)']).ffill().bfill()\n",
    "        self.data = self.data[~(self.data['GPS(lat)'].isnull())]\n",
    "        dist, rssi = self.data['Dist(m)'], self.data['RSSI(dB)']\n",
    "        filt = (rssi != 0) & (dist != 0)\n",
    "        self.dist = dist[filt]\n",
    "        self.rssi = rssi[filt]\n",
    "        self.lon  = self.data['GPS(lon)'][filt]\n",
    "        self.lat  = self.data['GPS(lat)'][filt]\n",
    "        self.time = np.arange(len(self.data['Time']))\n",
    "        self.rssi_time, self.rssi_dist = get_rssi(self.rssi, self.dist)\n",
    "        self.speed, self.alt = self.data['GSpd(kmh)'][filt], self.data['Alt(m)'][filt]\n",
    "        self.max_dist, self.max_speed, self.max_alt = get_max(self.data)"
   ]
  },
  {
   "cell_type": "code",
   "execution_count": null,
   "metadata": {
    "ExecuteTime": {
     "end_time": "2021-01-07T19:25:38.572138Z",
     "start_time": "2021-01-07T19:25:30.726Z"
    }
   },
   "outputs": [],
   "source": [
    "# Initialize Data\n",
    "tlm = TelemetryData()\n",
    "tlm.get_data(files[0])"
   ]
  },
  {
   "cell_type": "code",
   "execution_count": null,
   "metadata": {
    "ExecuteTime": {
     "end_time": "2021-01-07T19:25:38.574132Z",
     "start_time": "2021-01-07T19:25:30.729Z"
    }
   },
   "outputs": [],
   "source": [
    "# MAIN COMPONENTS"
   ]
  },
  {
   "cell_type": "code",
   "execution_count": null,
   "metadata": {
    "ExecuteTime": {
     "end_time": "2021-01-07T19:25:38.575129Z",
     "start_time": "2021-01-07T19:25:30.732Z"
    }
   },
   "outputs": [],
   "source": [
    "out = widgets.Output()"
   ]
  },
  {
   "cell_type": "code",
   "execution_count": null,
   "metadata": {
    "ExecuteTime": {
     "end_time": "2021-01-07T19:25:38.578121Z",
     "start_time": "2021-01-07T19:25:30.734Z"
    }
   },
   "outputs": [],
   "source": [
    "# left - files\n",
    "uploader    = widgets.FileUpload(accept='.csv', multiple=True, layout=Layout(width='14vw'))\n",
    "file_select = widgets.Dropdown(options=[os.path.basename(f) for f in files], layout=Layout(width='14vw'))\n",
    "#if file_exist:\n",
    "#video       = widgets.Video.from_file(\"videos/Big.Buck.Bunny.mp4\", autoplay=False,layout=Layout(width='14vw'))\n",
    "ar_wing    = widgets.HTML('<center> <img src=\"images/ar_wing.png\" align=\"middle\" class=\"center\"> </center>')\n",
    "dist_curr  = widgets.HTML(value='<b>Distance (m)</b> : '+str(tlm.dist.iloc[100]))\n",
    "speed_curr = widgets.HTML(value='<b>Speed (km/h)</b> : '+str(tlm.speed.iloc[100]))\n",
    "alt_curr   = widgets.HTML(value='<b>Altitude (m)</b> : '+str(tlm.alt.iloc[100]))\n",
    "infos      = VBox(children=[dist_curr, speed_curr, alt_curr], layout=Layout(align_items='center', border='solid 1px black', flex_direction='column', align_content='flex-end'))\n",
    "infos_     = VBox(children=[ar_wing, infos], layout=Layout(align_items='center', flex_direction='column', align_content='flex-end'))\n",
    "left       = VBox(children=[uploader,file_select,infos_])#,video])\n",
    "\n",
    "# center - map and time slider\n",
    "my_map      = Map(basemap=basemaps.Esri.WorldImagery, center=(np.mean(tlm.lat), np.mean(tlm.lon)), zoom=16)\n",
    "icon_home   = AwesomeIcon(name='home', icon_color=\"white\", marker_color='black')\n",
    "marker_home = Marker(icon=icon_home, location=(tlm.lat.iloc[0], tlm.lon.iloc[0]))\n",
    "line_map    = Polyline(locations=[(x, y) for x, y in zip(tlm.lat, tlm.lon)], color = \"red\", fill=False, weight=2)\n",
    "time_slider = widgets.IntSlider(value=len(tlm.time), max=len(tlm.time), layout=Layout(flex='1.5 1 0%', width='auto'))\n",
    "play_button = widgets.Play(max=len(tlm.time))\n",
    "animation   = widgets.HBox([play_button, time_slider]) \n",
    "my_map.add_layer(marker_home)\n",
    "my_map.add_layer(line_map)\n",
    "widgets.jslink((play_button, 'value'), (time_slider, 'value'))\n",
    "center = VBox(children=[my_map, animation], layout=Layout(flex='1.5 1 0%', width='auto', height='80vh', align_content='center', justify_content=\"center\"))\n",
    "    \n",
    "# right - rssi graphs and records\n",
    "x_var = widgets.Dropdown(options=tlm.data.columns, description='X axis :', value = 'Dist(m)', layout=Layout(width='12vw'))\n",
    "y_var = widgets.Dropdown(options=tlm.data.columns, description='Y axis :', value = 'RSSI(dB)', layout=Layout(width='12vw'))\n",
    "fit_button = widgets.ToggleButton(value=False, description='Fit', button_style='', icon='bolt', layout=Layout(width='5vw'))\n",
    "xy_var  = widgets.HBox([x_var, y_var, fit_button], layout=Layout(width='auto', height='auto', align_content='center', justify_content=\"center\")) \n",
    "xs, ys  = bq.LinearScale(), bq.LinearScale()\n",
    "y_axis  = bq.Axis(scale=ys, label='RSSI(dB)', grid_lines='solid', orientation='vertical' )\n",
    "x_axis  = bq.Axis(scale=xs, label='Dist(m)', grid_lines='solid')\n",
    "tooltip = bq.Tooltip(fields=['x', 'y'], labels=['dist','rssi'])\n",
    "points  = bq.Scatter(x=tlm.dist, y=tlm.rssi, scales={'x':xs,'y':ys}, default_size=20, labels=['data'], display_legend=True, tooltip=tooltip, unhovered_style={'opacity': 0.5})\n",
    "line    = bq.Lines(x=np.sort(tlm.dist), y=tlm.rssi_dist, scales={'x': xs, 'y': ys}, colors=['red'], labels=['fit'], display_legend=True) \n",
    "fig     = bq.Figure(marks=[points, line], axes=[x_axis, y_axis], layout=Layout(width='30vw', height = '45vh'))\n",
    "dist_max  = widgets.HTML(value=\"<b>Distance (m)</b> : \"+tlm.max_dist+\" / \"+max_dist_tot)\n",
    "speed_max = widgets.HTML(value=\"<b>Speed (km/h)</b> : \"+tlm.max_speed+\" / \"+max_speed_tot)\n",
    "alt_max   = widgets.HTML(value=\"<b>Altitude (m)</b> : \"+tlm.max_alt+\" / \"+max_alt_tot)\n",
    "trophee   = widgets.HTML('<center> <img src=\"images/trophy.jpg\" align=\"middle\" class=\"center\"> </center>')\n",
    "records   = VBox(children=[dist_max, speed_max, alt_max], layout=Layout(width='auto', height='20vh', align_items='center', border='solid 1px black'))\n",
    "right     = VBox(children=[xy_var, fig, trophee, records], layout=Layout(flex='1 1 0%', width='auto', height='80vh', align_items='center', flex_direction=\"column\"))"
   ]
  },
  {
   "cell_type": "code",
   "execution_count": null,
   "metadata": {
    "ExecuteTime": {
     "end_time": "2021-01-07T19:25:38.579119Z",
     "start_time": "2021-01-07T19:25:30.736Z"
    }
   },
   "outputs": [],
   "source": [
    "# INTERACTION"
   ]
  },
  {
   "cell_type": "code",
   "execution_count": null,
   "metadata": {
    "ExecuteTime": {
     "end_time": "2021-01-07T19:25:38.581113Z",
     "start_time": "2021-01-07T19:25:30.738Z"
    }
   },
   "outputs": [],
   "source": [
    "# function for updating all data : used withe slection and upload widgets\n",
    "@out.capture()\n",
    "def update_all(file):\n",
    "    with out:\n",
    "        tlm.get_data(file)\n",
    "        x_var.options = tlm.data.columns\n",
    "        y_var.options = tlm.data.columns\n",
    "        x_var.value = 'Dist(m)'\n",
    "        y_var.value = 'RSSI(dB)'\n",
    "        tlm.data = tlm.data.sort_values(x_var.value)\n",
    "        time_slider.max = len(tlm.time)\n",
    "        # update map\n",
    "        my_map.center   = np.mean(tlm.lat), np.mean(tlm.lon)\n",
    "        my_map.layers[1].location = (tlm.lat.iloc[0], tlm.lon.iloc[0])\n",
    "        my_map.layers[2].locations = [(x, y) for x, y in zip(tlm.lat, tlm.lon)]\n",
    "        # update graph\n",
    "        points.x = tlm.data[x_var.value]\n",
    "        line.x   = tlm.data[x_var.value]\n",
    "        points.y = tlm.data[y_var.value]\n",
    "        line.y   = tlm.data[y_var.value]\n",
    "        # update stats\n",
    "        dist_max.value  = \"<b>Distance (m)</b> : \"+tlm.max_dist+\" / \"+max_dist_tot\n",
    "        speed_max.value = \"<b>Speed (km/h)</b> : \"+tlm.max_speed+\" / \"+max_speed_tot\n",
    "        alt_max.value   = \"<b>Altitude (m)</b> : \"+tlm.max_alt+\" / \"+max_alt_tot"
   ]
  },
  {
   "cell_type": "code",
   "execution_count": null,
   "metadata": {
    "ExecuteTime": {
     "end_time": "2021-01-07T19:25:38.583108Z",
     "start_time": "2021-01-07T19:25:30.741Z"
    }
   },
   "outputs": [],
   "source": [
    "@out.capture()\n",
    "def file_change(change):\n",
    "    with out:\n",
    "        update_all('logs/'+change['new'])\n",
    "file_select.observe(file_change, names='value')\n",
    "\n",
    "@out.capture()\n",
    "def upload_change(change):\n",
    "    with out:\n",
    "        uploaded_file = change['new']\n",
    "        file = io.BytesIO(next(iter(uploaded_file.values()))['content'])\n",
    "        update_all(file)\n",
    "uploader.observe(upload_change, names='value')\n",
    "\n",
    "@out.capture()\n",
    "def xaxis_change(change):\n",
    "    with out:\n",
    "        if (change['new'] != 'Dist(m)') or (change['new'] != 'Time'):\n",
    "            line.y   = []\n",
    "        tlm.data = tlm.data.sort_values(change['new'])\n",
    "        points.x = tlm.data[change['new']]\n",
    "        points.y = tlm.data[y_var.value]\n",
    "        x_axis.label = change['new']\n",
    "        tooltip.labels[0] = change['new']\n",
    "        #line.marker = 'circle'\n",
    "        line.line_style = 'solid'\n",
    "x_var.observe(xaxis_change, names='value')\n",
    "\n",
    "@out.capture()\n",
    "def yaxis_change(change):\n",
    "    with out:\n",
    "        points.y = tlm.data[change['new']]\n",
    "        y_axis.label = change['new']\n",
    "        tooltip.labels[1] = change['new']\n",
    "y_var.observe(yaxis_change, names='value')\n",
    "\n",
    "@out.capture()\n",
    "def time_change(change):\n",
    "    with out:\n",
    "        last_time = change['new']\n",
    "        my_map.layers[2].locations = [(x, y) for x, y in zip(tlm.lat[:last_time], tlm.lon[:last_time])]\n",
    "        '''if graph_button.value == \"Time\":\n",
    "            points.x, line.x = tlm.time[:last_time], tlm.time[:last_time]\n",
    "            points.y, line.y = tlm.rssi[:last_time], tlm.rssi_time[:last_time]\n",
    "        elif graph_button.value == \"Distance\":\n",
    "            points.x = tlm.dist[:last_time]\n",
    "            points.y = tlm.rssi[:last_time]'''\n",
    "        points.x = tlm.data[x_var.value].iloc[:last_time]\n",
    "        points.y = tlm.data[y_var.value].iloc[:last_time]\n",
    "        dist_curr.value  = '<b>Distance (m)</b> : '+str(tlm.dist.iloc[last_time-1])\n",
    "        speed_curr.value = '<b>Speed (km/h)</b> : '+str(tlm.speed.iloc[last_time-1])\n",
    "        alt_curr.value   = '<b>Altitude (m)</b> : '+str(tlm.alt.iloc[last_time-1])\n",
    "time_slider.observe(time_change, names='value')"
   ]
  },
  {
   "cell_type": "code",
   "execution_count": null,
   "metadata": {
    "ExecuteTime": {
     "end_time": "2021-01-07T19:25:38.585104Z",
     "start_time": "2021-01-07T19:25:30.743Z"
    }
   },
   "outputs": [],
   "source": [
    "# DISPLAY"
   ]
  },
  {
   "cell_type": "code",
   "execution_count": null,
   "metadata": {
    "ExecuteTime": {
     "end_time": "2021-01-07T19:25:38.587097Z",
     "start_time": "2021-01-07T19:25:30.745Z"
    },
    "scrolled": true
   },
   "outputs": [],
   "source": [
    "display(HBox(children=[left, center, right]), out)"
   ]
  },
  {
   "cell_type": "code",
   "execution_count": null,
   "metadata": {
    "ExecuteTime": {
     "end_time": "2021-01-07T19:25:38.589092Z",
     "start_time": "2021-01-07T19:25:30.747Z"
    }
   },
   "outputs": [],
   "source": [
    "# 3D volume"
   ]
  },
  {
   "cell_type": "code",
   "execution_count": null,
   "metadata": {
    "ExecuteTime": {
     "end_time": "2021-01-07T19:25:38.591086Z",
     "start_time": "2021-01-07T19:25:30.749Z"
    }
   },
   "outputs": [],
   "source": [
    "#fig = ipv.figure(width=400, height=200,layout=Layout(width='14vw'))\n",
    "#ipv.style.use('minimal')\n",
    "#m = mesh.Mesh.from_file('stl/bixler.stl')\n",
    "#ipv.plot_trisurf(m.x.flatten(), m.z.flatten(), m.y.flatten(), triangles=np.arange(m.x.shape[0] * 3).reshape((m.x.shape[0], 3)), color=\"gray\")\n",
    "#ipv.squarelim()"
   ]
  },
  {
   "cell_type": "code",
   "execution_count": null,
   "metadata": {
    "ExecuteTime": {
     "end_time": "2021-01-07T19:25:38.593081Z",
     "start_time": "2021-01-07T19:25:30.753Z"
    }
   },
   "outputs": [],
   "source": [
    "# video"
   ]
  },
  {
   "cell_type": "code",
   "execution_count": null,
   "metadata": {
    "ExecuteTime": {
     "end_time": "2021-01-07T19:25:38.595076Z",
     "start_time": "2021-01-07T19:25:30.755Z"
    }
   },
   "outputs": [],
   "source": [
    "#video = widgets.Video.from_file(\"videos/Big.Buck.Bunny.mp4\", autoplay=False,layout=Layout(width='14vw'))"
   ]
  },
  {
   "cell_type": "code",
   "execution_count": null,
   "metadata": {
    "ExecuteTime": {
     "end_time": "2021-01-07T19:25:38.596074Z",
     "start_time": "2021-01-07T19:25:30.757Z"
    }
   },
   "outputs": [],
   "source": [
    "x_var = widgets.Dropdown(options=tlm.data.columns, description='X axis :', value = 'Dist(m)', layout=Layout(width='12vw'))\n",
    "x_var"
   ]
  },
  {
   "cell_type": "code",
   "execution_count": null,
   "metadata": {},
   "outputs": [],
   "source": []
  }
 ],
 "metadata": {
  "kernelspec": {
   "display_name": "Python 3",
   "language": "python",
   "name": "python3"
  },
  "language_info": {
   "codemirror_mode": {
    "name": "ipython",
    "version": 3
   },
   "file_extension": ".py",
   "mimetype": "text/x-python",
   "name": "python",
   "nbconvert_exporter": "python",
   "pygments_lexer": "ipython3",
   "version": "3.7.4"
  },
  "toc": {
   "base_numbering": 1,
   "nav_menu": {},
   "number_sections": true,
   "sideBar": true,
   "skip_h1_title": false,
   "title_cell": "Table of Contents",
   "title_sidebar": "Contents",
   "toc_cell": false,
   "toc_position": {},
   "toc_section_display": true,
   "toc_window_display": false
  },
  "varInspector": {
   "cols": {
    "lenName": 16,
    "lenType": 16,
    "lenVar": 40
   },
   "kernels_config": {
    "python": {
     "delete_cmd_postfix": "",
     "delete_cmd_prefix": "del ",
     "library": "var_list.py",
     "varRefreshCmd": "print(var_dic_list())"
    },
    "r": {
     "delete_cmd_postfix": ") ",
     "delete_cmd_prefix": "rm(",
     "library": "var_list.r",
     "varRefreshCmd": "cat(var_dic_list()) "
    }
   },
   "types_to_exclude": [
    "module",
    "function",
    "builtin_function_or_method",
    "instance",
    "_Feature"
   ],
   "window_display": false
  }
 },
 "nbformat": 4,
 "nbformat_minor": 4
}
