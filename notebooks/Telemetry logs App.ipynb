{
 "cells": [
  {
   "cell_type": "code",
   "execution_count": 1,
   "metadata": {
    "ExecuteTime": {
     "end_time": "2020-12-11T22:54:54.931331Z",
     "start_time": "2020-12-11T22:54:54.919335Z"
    }
   },
   "outputs": [],
   "source": [
    "#%matplotlib widget"
   ]
  },
  {
   "cell_type": "code",
   "execution_count": 2,
   "metadata": {
    "ExecuteTime": {
     "end_time": "2020-12-11T22:54:57.497709Z",
     "start_time": "2020-12-11T22:54:54.935291Z"
    }
   },
   "outputs": [],
   "source": [
    "import pandas as pd\n",
    "import os\n",
    "import glob\n",
    "import numpy as np\n",
    "import ipyvuetify as v\n",
    "import ipywidgets as widgets\n",
    "from ipywidgets import Layout, Button, Box, VBox, HBox\n",
    "from ipyleaflet import AwesomeIcon, Marker, Map, Icon, Popup, basemaps, Polyline\n",
    "from bqplot import Axis, Figure, Lines, LinearScale\n",
    "import bqplot as bq\n",
    "import matplotlib.pyplot as plt\n",
    "import matplotlib as mpl\n",
    "import io"
   ]
  },
  {
   "cell_type": "code",
   "execution_count": 3,
   "metadata": {
    "ExecuteTime": {
     "end_time": "2020-12-11T22:54:57.514706Z",
     "start_time": "2020-12-11T22:54:57.500147Z"
    }
   },
   "outputs": [],
   "source": [
    "# TO DO : add title, image (inav, x-lite, moi qui vole sur l'aile, logo GAJUFPV)\n",
    "# sort value before fitting ? it will destroy time slider interaction ?\n",
    "# add HD video visualisation\n",
    "# bug change file and time slider"
   ]
  },
  {
   "cell_type": "code",
   "execution_count": 4,
   "metadata": {
    "ExecuteTime": {
     "end_time": "2020-12-11T22:54:57.857549Z",
     "start_time": "2020-12-11T22:54:57.519693Z"
    }
   },
   "outputs": [
    {
     "data": {
      "application/vnd.jupyter.widget-view+json": {
       "model_id": "b551aecef4a64f63a4190aa9ffcb52b0",
       "version_major": 2,
       "version_minor": 0
      },
      "text/plain": [
       "HTML(value='<center> <img src=\"images/gaju_fpv.png\" align=\"middle\" class=\"center\"> </center>')"
      ]
     },
     "metadata": {},
     "output_type": "display_data"
    }
   ],
   "source": [
    "widgets.HTML('<center> <img src=\"images/gaju_fpv.png\" align=\"middle\" class=\"center\"> </center>')"
   ]
  },
  {
   "cell_type": "code",
   "execution_count": 5,
   "metadata": {
    "ExecuteTime": {
     "end_time": "2020-12-11T22:54:58.123256Z",
     "start_time": "2020-12-11T22:54:57.864534Z"
    }
   },
   "outputs": [],
   "source": [
    "def get_rssi(RSSI, dist):\n",
    "    # sort value before fitting ?\n",
    "    \n",
    "    # fit data to curve\n",
    "    [a,b] = np.polyfit(np.log(dist), RSSI, 1)\n",
    "    rssi = a * np.log(dist) + b\n",
    "    return rssi, a, b\n",
    "\n",
    "def plot_RSSI_dist(data, data_fit, ax):\n",
    "    RSSI = data['RSSI(dB)']\n",
    "    dist = data['Dist(m)']\n",
    "    ax.plot(dist, RSSI, '.')\n",
    "    line, = ax.plot(dist[dist != 0], data_fit[0], 'r')\n",
    "    ax.set_xlabel('distance (m)'), ax.set_ylabel('RSSI')\n",
    "    ax.set_title('${:.2f}\\ ln(x) + {:.2f}$'.format(data_fit[1],data_fit[2]))\n",
    "    return line\n",
    "\n",
    "def plot_RSSI_time(data, data_fit, ax):\n",
    "    RSSI = data['RSSI(dB)']\n",
    "    dist = data['Dist(m)']\n",
    "    ax.plot(RSSI, '.')\n",
    "    line, = ax.plot(data_fit[0], 'k')\n",
    "    ax.set_xlabel('time (s)'), ax.set_ylabel('RSSI')\n",
    "    return line\n",
    "\n",
    "def get_max(data, data_type='str'):\n",
    "    max_dist  = np.max(data['Dist(m)'])\n",
    "    max_speed = np.max(data['GSpd(kmh)'])\n",
    "    max_alt   = np.max(data['Alt(m)'])\n",
    "    if data_type==\"str\":\n",
    "        max_dist  = str(max_dist)\n",
    "        max_speed = str(max_speed)\n",
    "        max_alt   = str(max_alt)\n",
    "    return max_dist, max_speed, max_alt"
   ]
  },
  {
   "cell_type": "code",
   "execution_count": 6,
   "metadata": {
    "ExecuteTime": {
     "end_time": "2020-12-11T22:54:58.512526Z",
     "start_time": "2020-12-11T22:54:58.125254Z"
    }
   },
   "outputs": [],
   "source": [
    "files = glob.glob('logs/*.csv')"
   ]
  },
  {
   "cell_type": "code",
   "execution_count": 7,
   "metadata": {
    "ExecuteTime": {
     "end_time": "2020-12-11T22:54:58.935265Z",
     "start_time": "2020-12-11T22:54:58.521502Z"
    }
   },
   "outputs": [],
   "source": [
    "# Get max stats\n",
    "max_dist_tot, max_speed_tot, max_alt_tot = 0, 0, 0\n",
    "for file in files:\n",
    "    data = pd.read_csv(file, sep=';')\n",
    "    new_dist, new_speed, new_alt = get_max(data, data_type='int')\n",
    "    max_dist_tot  = np.max([max_dist_tot,new_dist])\n",
    "    max_speed_tot = np.max([max_speed_tot,new_speed])\n",
    "    max_alt_tot   = np.max([max_alt_tot,new_alt])\n",
    "max_dist_tot  = str(max_dist_tot)\n",
    "max_speed_tot = str(max_speed_tot)\n",
    "max_alt_tot   = str(max_alt_tot)"
   ]
  },
  {
   "cell_type": "code",
   "execution_count": 8,
   "metadata": {
    "ExecuteTime": {
     "end_time": "2020-12-11T22:54:59.043320Z",
     "start_time": "2020-12-11T22:54:58.939260Z"
    }
   },
   "outputs": [],
   "source": [
    "class TelemetryData:\n",
    "    def __init__(self):\n",
    "        self.dist, self.rssi = [], []\n",
    "        self.lon, self.lat   = [], []\n",
    "        self.time, self.rssi_fit = [], []\n",
    "        self.max_dist, self.max_speed, self.max_alt = 0, 0, 0\n",
    "    def get_data(self, file):\n",
    "        data = pd.read_csv(file, sep=';')\n",
    "        data = data.interpolate(method='nearest', column=['GPS(lat)','GPS(lon)']).ffill().bfill()\n",
    "        dist, rssi = data['Dist(m)'], data['RSSI(dB)']\n",
    "        filt = (rssi != 0) & (dist != 0)\n",
    "        self.dist = dist[filt] \n",
    "        self.rssi = rssi[filt]\n",
    "        self.lon  = data['GPS(lon)'][filt]\n",
    "        self.lat  = data['GPS(lat)'][filt]\n",
    "        self.time = np.arange(len(self.rssi))\n",
    "        self.rssi_fit, a, b = get_rssi(self.rssi, self.dist)\n",
    "        self.max_dist, self.max_speed, self.max_alt = get_max(data)"
   ]
  },
  {
   "cell_type": "code",
   "execution_count": 9,
   "metadata": {
    "ExecuteTime": {
     "end_time": "2020-12-11T22:54:59.663834Z",
     "start_time": "2020-12-11T22:54:59.049302Z"
    }
   },
   "outputs": [],
   "source": [
    "# Initialize Data\n",
    "tlm = TelemetryData()\n",
    "tlm.get_data(files[0])"
   ]
  },
  {
   "cell_type": "code",
   "execution_count": 10,
   "metadata": {
    "ExecuteTime": {
     "end_time": "2020-12-11T22:54:59.679793Z",
     "start_time": "2020-12-11T22:54:59.665831Z"
    }
   },
   "outputs": [],
   "source": [
    "# MAIN COMPONENTS"
   ]
  },
  {
   "cell_type": "code",
   "execution_count": 11,
   "metadata": {
    "ExecuteTime": {
     "end_time": "2020-12-11T22:54:59.867921Z",
     "start_time": "2020-12-11T22:54:59.682786Z"
    }
   },
   "outputs": [],
   "source": [
    "out = widgets.Output()"
   ]
  },
  {
   "cell_type": "code",
   "execution_count": 12,
   "metadata": {
    "ExecuteTime": {
     "end_time": "2020-12-11T22:55:00.275580Z",
     "start_time": "2020-12-11T22:54:59.869919Z"
    }
   },
   "outputs": [],
   "source": [
    "# left - files\n",
    "file_select = widgets.Select(options=[os.path.basename(f) for f in files], layout=Layout(flex='1 1 0%', width='14vw', height='50vh'))\n",
    "left = VBox(children=[file_select])\n",
    "\n",
    "# center - map and time slider\n",
    "center_map = np.mean(tlm.lat), np.mean(tlm.lon)\n",
    "my_map     = Map(basemap=basemaps.Esri.WorldImagery, center=center_map, zoom=15)\n",
    "line_map   = Polyline(locations=[(x, y) for x, y in zip(tlm.lat, tlm.lon)], color = \"red\", fill=False, weight=1)\n",
    "my_map.add_layer(line_map)\n",
    "time_slider = widgets.IntSlider(description='Time', value=len(tlm.time), max=len(tlm.time), layout=Layout(align_content='center', justify_content=\"center\", width='auto'))\n",
    "#time_slider = v.Slider(thumb_label=True, v_model=25, description='Time', value=len(data), max=len(data), layout=Layout(align_content='center', justify_content=\"center\", width='auto'))\n",
    "center = VBox(children=[my_map, time_slider], layout=Layout(flex='1.5 1 0%', width='auto', height='80vh', align_content='center', justify_content=\"center\"))\n",
    "    \n",
    "# right - rssi graphs and records\n",
    "xs, ys = bq.LinearScale(), bq.LinearScale()\n",
    "yax    = bq.Axis(scale=ys, label='RSSI', grid_lines='solid', orientation='vertical' )\n",
    "axis   = bq.Axis(scale=xs, label='Distance (m)', grid_lines='solid')\n",
    "points = bq.Scatter(x=tlm.dist, y=tlm.rssi, scales={'x':xs,'y':ys}, default_size=20)\n",
    "line   = bq.Lines(x=tlm.dist, y=tlm.rssi_fit, scales={'x': xs, 'y': ys}, colors=['red'])\n",
    "fig    = bq.Figure(marks=[points, line], axes=[axis, yax], layout=Layout(width='30vw', height = '45vh'))\n",
    "graph_button = widgets.ToggleButtons(options=['Time', 'Distance'], description='RSSI graph', value='Distance', disabled=False, button_style='')\n",
    "dist_max  = widgets.HTML(value=\"<b>Distance (m)</b> : \"+tlm.max_dist+\" / \"+max_dist_tot)\n",
    "speed_max = widgets.HTML(value=\"<b>Speed (km/h)</b> : \"+tlm.max_speed+\" / \"+max_speed_tot)\n",
    "alt_max   = widgets.HTML(value=\"<b>Altitude (m)</b> : \"+tlm.max_alt+\" / \"+max_alt_tot)\n",
    "trophee = widgets.HTML('<center> <img src=\"images/trophy.jpg\" align=\"middle\" class=\"center\"> </center>')\n",
    "records = VBox(children=[dist_max, speed_max, alt_max], layout=Layout(flex='1 1 0%', align_items='center', border='solid 1px black'))\n",
    "right   = VBox(children=[graph_button, fig, trophee, records], layout=Layout(flex='1 1 0%', width='auto', height='80vh', align_items='center', flex_direction=\"column\"))"
   ]
  },
  {
   "cell_type": "code",
   "execution_count": 13,
   "metadata": {
    "ExecuteTime": {
     "end_time": "2020-12-11T22:55:00.430424Z",
     "start_time": "2020-12-11T22:55:00.277539Z"
    }
   },
   "outputs": [],
   "source": [
    "# INTERACTION"
   ]
  },
  {
   "cell_type": "code",
   "execution_count": 14,
   "metadata": {
    "ExecuteTime": {
     "end_time": "2020-12-11T22:55:00.693500Z",
     "start_time": "2020-12-11T22:55:00.441397Z"
    }
   },
   "outputs": [],
   "source": [
    "@out.capture()\n",
    "def file_change(change):\n",
    "    with out:\n",
    "        tlm.get_data('logs/'+change['new'])\n",
    "        time_slider.max = len(tlm.time)\n",
    "        my_map.center   = np.mean(tlm.lat), np.mean(tlm.lon)\n",
    "        my_map.remove_layer(my_map.layers[1])\n",
    "        line_map = Polyline(locations=[(x, y) for x, y in zip(tlm.lat, tlm.lon)], color = \"red\", fill=False, weight=1)\n",
    "        my_map.add_layer(line_map)\n",
    "        points.x, points.y = tlm.dist, tlm.rssi\n",
    "        line.x, line.y     = tlm.dist, tlm.rssi_fit\n",
    "        if graph_button.value == \"Time\":\n",
    "            points.x, line.x = tlm.time, tlm.time\n",
    "        elif graph_button.value == \"Distance\":\n",
    "            points.x, line.x = tlm.dist, tlm.dist\n",
    "        points.y, line.y = tlm.rssi, tlm.rssi_fit\n",
    "        dist_max.value  = \"<b>Distance (m)</b> : \"+tlm.max_dist+\" / \"+max_dist_tot\n",
    "        speed_max.value = \"<b>Speed (km/h)</b> : \"+tlm.max_speed+\" / \"+max_speed_tot\n",
    "        alt_max.value   = \"<b>Altitude (m)</b> : \"+tlm.max_alt+\" / \"+max_alt_tot\n",
    "file_select.observe(file_change, names='value')\n",
    "\n",
    "# when new file, global variable should be updated !\n",
    "# ==> use class ?\n",
    "\n",
    "@out.capture()\n",
    "def graph_change(change):\n",
    "    with out:\n",
    "        if change['new'] == 'Time':\n",
    "            points.x, line.x = tlm.time, tlm.time\n",
    "            axis.label = 'Time (s)'\n",
    "        elif change['new'] == 'Distance':\n",
    "            points.x, line.x = tlm.dist, tlm.dist\n",
    "            axis.label = 'Distance (m)'\n",
    "graph_button.observe(graph_change, names='value')\n",
    "\n",
    "@out.capture()\n",
    "def time_change(change):\n",
    "    with out:\n",
    "        last_time = change['new']\n",
    "        my_map.layers[1].locations = [(x, y) for x, y in zip(tlm.lat[:last_time], tlm.lon[:last_time])]\n",
    "        if graph_button.value == \"Time\":\n",
    "            points.x, line.x = tlm.time[:last_time], tlm.time[:last_time]\n",
    "        elif graph_button.value == \"Distance\":\n",
    "            points.x, line.x = tlm.dist[:last_time], tlm.dist[:last_time]\n",
    "        points.y, line.y = tlm.rssi[:last_time], tlm.rssi_fit[:last_time]\n",
    "time_slider.observe(time_change, names='value')"
   ]
  },
  {
   "cell_type": "code",
   "execution_count": 15,
   "metadata": {
    "ExecuteTime": {
     "end_time": "2020-12-11T22:55:00.943095Z",
     "start_time": "2020-12-11T22:55:00.699492Z"
    }
   },
   "outputs": [],
   "source": [
    "# DISPLAY"
   ]
  },
  {
   "cell_type": "code",
   "execution_count": 16,
   "metadata": {
    "ExecuteTime": {
     "end_time": "2020-12-11T22:55:01.206651Z",
     "start_time": "2020-12-11T22:55:00.946090Z"
    }
   },
   "outputs": [
    {
     "data": {
      "application/vnd.jupyter.widget-view+json": {
       "model_id": "78f057688c5249c7942a5f421574450b",
       "version_major": 2,
       "version_minor": 0
      },
      "text/plain": [
       "HBox(children=(VBox(children=(Select(layout=Layout(flex='1 1 0%', height='50vh', width='14vw'), options=('AR_W…"
      ]
     },
     "metadata": {},
     "output_type": "display_data"
    },
    {
     "data": {
      "application/vnd.jupyter.widget-view+json": {
       "model_id": "7d67f294a6904188a3c7be0f604b29af",
       "version_major": 2,
       "version_minor": 0
      },
      "text/plain": [
       "Output()"
      ]
     },
     "metadata": {},
     "output_type": "display_data"
    }
   ],
   "source": [
    "display(HBox(children=[left, center, right]), out)"
   ]
  },
  {
   "cell_type": "code",
   "execution_count": null,
   "metadata": {
    "ExecuteTime": {
     "end_time": "2020-12-11T22:35:23.143371Z",
     "start_time": "2020-12-11T22:35:23.121453Z"
    }
   },
   "outputs": [],
   "source": []
  },
  {
   "cell_type": "code",
   "execution_count": 17,
   "metadata": {
    "ExecuteTime": {
     "end_time": "2020-12-11T22:55:01.457980Z",
     "start_time": "2020-12-11T22:55:01.209645Z"
    }
   },
   "outputs": [],
   "source": [
    "# upload"
   ]
  },
  {
   "cell_type": "code",
   "execution_count": 18,
   "metadata": {
    "ExecuteTime": {
     "end_time": "2020-12-11T22:55:01.676397Z",
     "start_time": "2020-12-11T22:55:01.460972Z"
    }
   },
   "outputs": [
    {
     "data": {
      "application/vnd.jupyter.widget-view+json": {
       "model_id": "2ee8320245c44f74b569af9bd2e1c65f",
       "version_major": 2,
       "version_minor": 0
      },
      "text/plain": [
       "FileUpload(value={}, accept='.csv', description='Upload', multiple=True)"
      ]
     },
     "metadata": {},
     "output_type": "display_data"
    }
   ],
   "source": [
    "uploader = widgets.FileUpload(accept='.csv', multiple=True)\n",
    "uploader"
   ]
  },
  {
   "cell_type": "code",
   "execution_count": 43,
   "metadata": {
    "ExecuteTime": {
     "end_time": "2020-12-11T23:02:40.087543Z",
     "start_time": "2020-12-11T23:02:40.068595Z"
    }
   },
   "outputs": [],
   "source": [
    "uploaded_file = uploader.value\n",
    "for item in uploaded_file.keys():\n",
    "    b = uploaded_file[item]['content']\n",
    "    new_file = pd.read_csv(io.BytesIO(b))"
   ]
  },
  {
   "cell_type": "code",
   "execution_count": 42,
   "metadata": {
    "ExecuteTime": {
     "end_time": "2020-12-11T23:02:27.162259Z",
     "start_time": "2020-12-11T23:02:27.143338Z"
    }
   },
   "outputs": [
    {
     "data": {
      "text/plain": [
       "dict_keys(['AR_Wing-2020-08-26.csv'])"
      ]
     },
     "execution_count": 42,
     "metadata": {},
     "output_type": "execute_result"
    }
   ],
   "source": [
    "uploaded_file.keys()"
   ]
  },
  {
   "cell_type": "code",
   "execution_count": null,
   "metadata": {
    "ExecuteTime": {
     "end_time": "2020-12-11T22:55:02.339886Z",
     "start_time": "2020-12-11T22:54:54.969Z"
    }
   },
   "outputs": [],
   "source": []
  },
  {
   "cell_type": "code",
   "execution_count": null,
   "metadata": {},
   "outputs": [],
   "source": []
  },
  {
   "cell_type": "code",
   "execution_count": null,
   "metadata": {},
   "outputs": [],
   "source": []
  }
 ],
 "metadata": {
  "kernelspec": {
   "display_name": "Python 3",
   "language": "python",
   "name": "python3"
  },
  "language_info": {
   "codemirror_mode": {
    "name": "ipython",
    "version": 3
   },
   "file_extension": ".py",
   "mimetype": "text/x-python",
   "name": "python",
   "nbconvert_exporter": "python",
   "pygments_lexer": "ipython3",
   "version": "3.7.4"
  },
  "toc": {
   "base_numbering": 1,
   "nav_menu": {},
   "number_sections": true,
   "sideBar": true,
   "skip_h1_title": false,
   "title_cell": "Table of Contents",
   "title_sidebar": "Contents",
   "toc_cell": false,
   "toc_position": {},
   "toc_section_display": true,
   "toc_window_display": false
  },
  "varInspector": {
   "cols": {
    "lenName": 16,
    "lenType": 16,
    "lenVar": 40
   },
   "kernels_config": {
    "python": {
     "delete_cmd_postfix": "",
     "delete_cmd_prefix": "del ",
     "library": "var_list.py",
     "varRefreshCmd": "print(var_dic_list())"
    },
    "r": {
     "delete_cmd_postfix": ") ",
     "delete_cmd_prefix": "rm(",
     "library": "var_list.r",
     "varRefreshCmd": "cat(var_dic_list()) "
    }
   },
   "types_to_exclude": [
    "module",
    "function",
    "builtin_function_or_method",
    "instance",
    "_Feature"
   ],
   "window_display": false
  }
 },
 "nbformat": 4,
 "nbformat_minor": 4
}
