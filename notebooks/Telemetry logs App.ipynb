{
 "cells": [
  {
   "cell_type": "code",
   "execution_count": 3,
   "metadata": {
    "ExecuteTime": {
     "end_time": "2021-06-03T11:09:10.471805Z",
     "start_time": "2021-06-03T11:09:07.629105Z"
    }
   },
   "outputs": [],
   "source": [
    "import pandas as pd\n",
    "import os\n",
    "import glob\n",
    "import numpy as np\n",
    "import ipyvuetify as v\n",
    "import ipywidgets as widgets\n",
    "from ipywidgets import Layout, Button, Box, VBox, HBox, HTML\n",
    "from ipyleaflet import AwesomeIcon, Marker, Map, Icon, Popup, basemaps, Polyline\n",
    "from bqplot import Axis, Figure, Lines, LinearScale\n",
    "import bqplot as bq\n",
    "import matplotlib.pyplot as plt\n",
    "import matplotlib as mpl\n",
    "import io\n",
    "from scipy.optimize import curve_fit\n",
    "from stl import mesh\n",
    "import pythreejs as p3"
   ]
  },
  {
   "cell_type": "code",
   "execution_count": 4,
   "metadata": {
    "ExecuteTime": {
     "end_time": "2021-06-03T11:09:10.486836Z",
     "start_time": "2021-06-03T11:09:10.473790Z"
    }
   },
   "outputs": [],
   "source": [
    "# TO DO : add title, image (inav, x-lite, moi qui vole sur l'aile)\n",
    "# sort value before fitting ? it will destroy time slider interaction ?\n",
    "# add HD video visualisation"
   ]
  },
  {
   "cell_type": "code",
   "execution_count": 5,
   "metadata": {
    "ExecuteTime": {
     "end_time": "2021-06-03T11:09:11.090026Z",
     "start_time": "2021-06-03T11:09:10.489833Z"
    }
   },
   "outputs": [
    {
     "data": {
      "application/vnd.jupyter.widget-view+json": {
       "model_id": "cdb7ccae5a5d4523b79d2f06f9ba35ee",
       "version_major": 2,
       "version_minor": 0
      },
      "text/plain": [
       "HTML(value='<center> <img src=\"images/gaju_fpv.gif\" align=\"middle\" class=\"center\"> </center>')"
      ]
     },
     "execution_count": 5,
     "metadata": {},
     "output_type": "execute_result"
    }
   ],
   "source": [
    "widgets.HTML('<center> <img src=\"images/gaju_fpv.gif\" align=\"middle\" class=\"center\"> </center>')"
   ]
  },
  {
   "cell_type": "code",
   "execution_count": 6,
   "metadata": {
    "ExecuteTime": {
     "end_time": "2021-06-03T11:09:11.818104Z",
     "start_time": "2021-06-03T11:09:11.093019Z"
    }
   },
   "outputs": [],
   "source": [
    "def get_rssi(RSSI, dist):\n",
    "    [a,b] = np.polyfit(np.log(dist), RSSI, 1)\n",
    "    rssi_time = a * np.log(dist) + b\n",
    "    rssi_dist = a * np.log(np.sort(dist)) + b\n",
    "    return rssi_time, rssi_dist\n",
    "\n",
    "def get_max(data, data_type='str'):\n",
    "    max_dist  = np.max(data['Dist(m)'])\n",
    "    max_speed = np.max(data['GSpd(kmh)'])\n",
    "    max_alt   = np.max(data['Alt(m)'])\n",
    "    if data_type==\"str\":\n",
    "        max_dist  = str(max_dist)\n",
    "        max_speed = str(max_speed)\n",
    "        max_alt   = str(max_alt)\n",
    "    return max_dist, max_speed, max_alt"
   ]
  },
  {
   "cell_type": "code",
   "execution_count": 7,
   "metadata": {
    "ExecuteTime": {
     "end_time": "2021-06-03T11:09:12.798539Z",
     "start_time": "2021-06-03T11:09:11.820070Z"
    }
   },
   "outputs": [],
   "source": [
    "files = glob.glob('logs/*.csv')"
   ]
  },
  {
   "cell_type": "code",
   "execution_count": 8,
   "metadata": {
    "ExecuteTime": {
     "end_time": "2021-06-03T11:09:14.968377Z",
     "start_time": "2021-06-03T11:09:12.802370Z"
    }
   },
   "outputs": [
    {
     "name": "stderr",
     "output_type": "stream",
     "text": [
      "/tmp/ipykernel_105793/3922535483.py:4: FutureWarning: The argument 'infer_datetime_format' is deprecated and will be removed in a future version. A strict version of it is now the default, see https://pandas.pydata.org/pdeps/0004-consistent-to-datetime-parsing.html. You can safely remove this argument.\n",
      "  data = pd.read_csv(file, sep=';', parse_dates=[0,1] , infer_datetime_format=True)\n",
      "/tmp/ipykernel_105793/3922535483.py:4: UserWarning: Could not infer format, so each element will be parsed individually, falling back to `dateutil`. To ensure parsing is consistent and as-expected, please specify a format.\n",
      "  data = pd.read_csv(file, sep=';', parse_dates=[0,1] , infer_datetime_format=True)\n"
     ]
    }
   ],
   "source": [
    "# Get max stats\n",
    "max_dist_tot, max_speed_tot, max_alt_tot = 0, 0, 0\n",
    "for file in files:\n",
    "    data = pd.read_csv(file, sep=';', parse_dates=[0,1] , infer_datetime_format=True)\n",
    "    new_dist, new_speed, new_alt = get_max(data, data_type='int')\n",
    "    max_dist_tot  = np.max([max_dist_tot,new_dist])\n",
    "    max_speed_tot = np.max([max_speed_tot,new_speed])\n",
    "    max_alt_tot   = np.max([max_alt_tot,new_alt])\n",
    "max_dist_tot  = str(max_dist_tot)\n",
    "max_speed_tot = str(max_speed_tot)\n",
    "max_alt_tot   = str(max_alt_tot)"
   ]
  },
  {
   "cell_type": "code",
   "execution_count": 9,
   "metadata": {
    "ExecuteTime": {
     "end_time": "2021-06-03T11:09:14.999295Z",
     "start_time": "2021-06-03T11:09:14.972353Z"
    }
   },
   "outputs": [],
   "source": [
    "class TelemetryData:\n",
    "    def __init__(self):\n",
    "        self.dist, self.rssi = [], []\n",
    "        self.lon, self.lat   = [], []\n",
    "        self.time = []\n",
    "        self.rssi_time, self.rssi_dist = [], []\n",
    "        self.dist, self.speed, self.alt = 0, 0, 0\n",
    "        self.max_dist, self.max_speed, self.max_alt = 0, 0, 0\n",
    "        self.data = []\n",
    "        self.hdg = []\n",
    "    def get_data(self, file):\n",
    "        self.data = pd.read_csv(file, sep=';', parse_dates=[0,1] , infer_datetime_format=True)\n",
    "        #self.data = data.interpolate(method='nearest', column=['GPS(lat)','GPS(lon)']).ffill().bfill()\n",
    "        self.data  = self.data[~(self.data['GPS(lat)'].isnull())]\n",
    "        dist, rssi = self.data['Dist(m)'], self.data['RSSI(dB)']\n",
    "        filt = (rssi != 0) & (dist != 0)\n",
    "        self.lon  = self.data['GPS(lon)']\n",
    "        self.lat  = self.data['GPS(lat)']\n",
    "        self.time = np.arange(len(self.data['Time']))\n",
    "        self.dist_filt = dist[filt]\n",
    "        if filt.sum() > 0:\n",
    "            self.rssi_time, self.rssi_dist = get_rssi(rssi[filt], dist[filt])\n",
    "        self.speed, self.alt, self.dist = self.data['GSpd(kmh)'], self.data['Alt(m)'], dist\n",
    "        self.max_dist, self.max_speed, self.max_alt = get_max(self.data)\n",
    "        self.hdg = self.data['Hdg(@)']"
   ]
  },
  {
   "cell_type": "code",
   "execution_count": 10,
   "metadata": {
    "ExecuteTime": {
     "end_time": "2021-06-03T11:09:16.217076Z",
     "start_time": "2021-06-03T11:09:15.002891Z"
    }
   },
   "outputs": [
    {
     "name": "stderr",
     "output_type": "stream",
     "text": [
      "/tmp/ipykernel_105793/4272251496.py:12: FutureWarning: The argument 'infer_datetime_format' is deprecated and will be removed in a future version. A strict version of it is now the default, see https://pandas.pydata.org/pdeps/0004-consistent-to-datetime-parsing.html. You can safely remove this argument.\n",
      "  self.data = pd.read_csv(file, sep=';', parse_dates=[0,1] , infer_datetime_format=True)\n",
      "/tmp/ipykernel_105793/4272251496.py:12: UserWarning: Could not infer format, so each element will be parsed individually, falling back to `dateutil`. To ensure parsing is consistent and as-expected, please specify a format.\n",
      "  self.data = pd.read_csv(file, sep=';', parse_dates=[0,1] , infer_datetime_format=True)\n"
     ]
    }
   ],
   "source": [
    "# Initialize Data\n",
    "tlm = TelemetryData()\n",
    "tlm.get_data(files[0])"
   ]
  },
  {
   "cell_type": "code",
   "execution_count": 11,
   "metadata": {},
   "outputs": [],
   "source": [
    "# 3D MODEL\n",
    "stl_mesh = mesh.Mesh.from_file('3d/fixed_wing.stl')\n",
    "# Create a pythreejs geometry directly from the STL data\n",
    "faces, face_normals = stl_mesh.vectors, stl_mesh.normals\n",
    "vertices, normals, indices = [], [], []\n",
    "for i, face in enumerate(faces):\n",
    "    base_index = len(vertices)\n",
    "    for vertex in face:\n",
    "        vertices.append(vertex)\n",
    "        normals.append(face_normals[i])  # Use the face normal for all vertices\n",
    "    # Add indices for this face\n",
    "    indices.extend([base_index, base_index + 1, base_index + 2])\n",
    "\n",
    "# Convert to numpy arrays\n",
    "vertices = np.array(vertices, dtype=np.float32)\n",
    "normals = np.array(normals, dtype=np.float32)\n",
    "indices = np.array(indices, dtype=np.uint32)\n",
    "\n",
    "# Create a buffer geometry\n",
    "geometry = p3.BufferGeometry(\n",
    "    attributes={\n",
    "        'position': p3.BufferAttribute(vertices, normalized=False),\n",
    "        'normal': p3.BufferAttribute(normals, normalized=False),\n",
    "        'index':  p3.BufferAttribute(indices, normalized=False)\n",
    "    }\n",
    ")\n",
    "\n",
    "# Create a material with good lighting properties\n",
    "material = p3.MeshPhongMaterial(\n",
    "    color='#404040',  # Blue color\n",
    "    emissive='#000000',\n",
    "    specular='#000000',\n",
    "    shininess=0\n",
    ")\n",
    "\n",
    "# Create the mesh\n",
    "mesh_3d = p3.Mesh(geometry=geometry, material=material)\n",
    "center = np.mean(vertices, axis=0)\n",
    "size = np.max(np.abs(vertices - center))\n",
    "\n",
    "# Create a scene\n",
    "scene = p3.Scene()\n",
    "scene.add(mesh_3d)\n",
    "main_light = p3.DirectionalLight(color='white', position=[size, size, size], intensity=0.3)\n",
    "fill_light = p3.DirectionalLight(color='white', position=[-size, size, -size], intensity=0.3)\n",
    "back_light = p3.DirectionalLight(color='white', position=[0, -size, 0], intensity=0.3)\n",
    "ambient_light = p3.AmbientLight(intensity=0.4)\n",
    "scene.add(main_light)\n",
    "scene.add(fill_light)\n",
    "scene.add(back_light)\n",
    "scene.add(ambient_light)\n",
    "\n",
    "# Create a camera\n",
    "camera = p3.PerspectiveCamera(\n",
    "    position=[center[0], center[1], center[2]],\n",
    "    up=[0, 1, 0],\n",
    "    fov=40\n",
    ")\n",
    "orbit_controls = p3.OrbitControls(controlling=camera)\n",
    "\n",
    "# Create a renderer\n",
    "renderer = p3.Renderer(\n",
    "    camera=camera,\n",
    "    scene=scene,\n",
    "    controls=[orbit_controls],\n",
    "    width=600,\n",
    "    height=400,\n",
    "    antialias=True\n",
    ")"
   ]
  },
  {
   "cell_type": "code",
   "execution_count": 12,
   "metadata": {
    "ExecuteTime": {
     "end_time": "2021-06-03T11:09:16.824251Z",
     "start_time": "2021-06-03T11:09:16.220067Z"
    }
   },
   "outputs": [],
   "source": [
    "# MAIN COMPONENTS"
   ]
  },
  {
   "cell_type": "code",
   "execution_count": 13,
   "metadata": {
    "ExecuteTime": {
     "end_time": "2021-06-03T11:09:17.974300Z",
     "start_time": "2021-06-03T11:09:16.827245Z"
    }
   },
   "outputs": [],
   "source": [
    "out = widgets.Output()"
   ]
  },
  {
   "cell_type": "code",
   "execution_count": 14,
   "metadata": {
    "ExecuteTime": {
     "end_time": "2021-06-03T11:20:49.978651Z",
     "start_time": "2021-06-03T11:20:49.662500Z"
    }
   },
   "outputs": [],
   "source": [
    "# left - files\n",
    "uploader    = widgets.FileUpload(accept='.csv', multiple=True, layout=Layout(width='14vw'))\n",
    "file_select = widgets.Dropdown(options=[os.path.basename(f) for f in files], layout=Layout(width='14vw'))\n",
    "#if file_exist:\n",
    "#video       = widgets.Video.from_file(\"videos/Big.Buck.Bunny.mp4\", autoplay=False,layout=Layout(width='14vw'))\n",
    "ar_wing    = widgets.HTML('<center> <img src=\"images/ar_wing.png\" align=\"middle\" class=\"center\"> </center>')\n",
    "dist_curr  = widgets.HTML(value='<b>Distance (m)</b> : '+str(tlm.dist.iloc[5]))\n",
    "speed_curr = widgets.HTML(value='<b>Speed (km/h)</b> : '+str(tlm.speed.iloc[5]))\n",
    "alt_curr   = widgets.HTML(value='<b>Altitude (m)</b> : '+str(tlm.alt.iloc[5]))\n",
    "infos      = VBox(children=[dist_curr, speed_curr, alt_curr], layout=Layout(align_items='center', border='solid 1px black', flex_direction='column', align_content='flex-end'))\n",
    "pitot      = widgets.ToggleButton(value=False, description='Check Pitot', button_style='', icon='magic', layout=Layout(width='auto', align_items='center', flex_direction='column', align_content='flex-end'))\n",
    "dist_max  = widgets.HTML(value=\"<b>Distance (m)</b> : \"+tlm.max_dist+\" / \"+max_dist_tot)\n",
    "speed_max = widgets.HTML(value=\"<b>Speed (km/h)</b> : \"+tlm.max_speed+\" / \"+max_speed_tot)\n",
    "alt_max   = widgets.HTML(value=\"<b>Altitude (m)</b> : \"+tlm.max_alt+\" / \"+max_alt_tot)\n",
    "trophee   = widgets.HTML('<center> <img src=\"images/trophy.jpg\" align=\"middle\" class=\"center\"> </center>')\n",
    "records   = VBox(children=[dist_max, speed_max, alt_max], layout=Layout(width='auto', height='10vh', align_items='center', border='solid 1px black'))\n",
    "left      = VBox(children=[uploader, file_select, ar_wing, pitot, trophee, records])#,video])\n",
    "\n",
    "# center - map and time slider\n",
    "my_map      = Map(basemap=basemaps.Esri.WorldImagery, center=(np.mean(tlm.lat), np.mean(tlm.lon)), zoom=16)\n",
    "icon_home   = AwesomeIcon(name='home', icon_color=\"white\", marker_color='black')\n",
    "marker_home = Marker(icon=icon_home, location=(tlm.lat.iloc[0], tlm.lon.iloc[0]), draggable=False)\n",
    "icon_plane  = Icon(icon_url='images/icon_airplane.png')\n",
    "marker_plane = Marker(icon=icon_plane, location=(tlm.lat.iloc[-1], tlm.lon.iloc[-1]), rotation_angle=tlm.hdg.iloc[-1], rotation_origin=\"bottom center\", draggable=False)\n",
    "marker_plane.popup = infos\n",
    "line_map    = Polyline(locations=[(x, y) for x, y in zip(tlm.lat, tlm.lon)], color = \"red\", fill=False, weight=2)\n",
    "time_slider = widgets.IntSlider(value=len(tlm.time), max=len(tlm.time), layout=Layout(flex='1.5 1 0%', width='auto'))\n",
    "play_button = widgets.Play(max=len(tlm.time))\n",
    "animation   = widgets.HBox([play_button, time_slider]) \n",
    "my_map.add_layer(marker_home)\n",
    "my_map.add_layer(line_map)\n",
    "my_map.add_layer(marker_plane)\n",
    "widgets.jslink((play_button, 'value'), (time_slider, 'value'))\n",
    "center = VBox(children=[my_map, animation], layout=Layout(flex='1.5 1 0%', width='auto', height='80vh', align_content='center', justify_content=\"center\"))\n",
    "\n",
    "# right - rssi graphs and records\n",
    "x_var = widgets.Dropdown(options=tlm.data.columns, description='X axis :', value = 'Dist(m)', layout=Layout(width='12vw'))\n",
    "y_var = widgets.Dropdown(options=tlm.data.columns, description='Y axis :', value = 'RSSI(dB)', layout=Layout(width='12vw'))\n",
    "fit_button = widgets.ToggleButton(value=False, description='Fit', button_style='', icon='bolt', layout=Layout(width='5vw'))\n",
    "xy_var  = widgets.HBox([x_var, y_var, fit_button], layout=Layout(width='auto', height='auto', align_content='center', justify_content=\"center\")) \n",
    "xs, ys  = bq.LinearScale(), bq.LinearScale()\n",
    "y_axis  = bq.Axis(scale=ys, label='RSSI(dB)', grid_lines='solid', orientation='vertical' )\n",
    "x_axis  = bq.Axis(scale=xs, label='Dist(m)', grid_lines='solid')\n",
    "tooltip = bq.Tooltip(fields=['x', 'y'], labels=['dist','rssi'])\n",
    "points  = bq.Scatter(x=tlm.data['Dist(m)'], y=tlm.data['RSSI(dB)'], scales={'x':xs,'y':ys}, default_size=20, labels=['data'], display_legend=True, tooltip=tooltip, unhovered_style={'opacity': 0.5})\n",
    "line    = bq.Lines(x=np.sort(tlm.dist_filt), y=tlm.rssi_dist, scales={'x': xs, 'y': ys}, colors=['red'], labels=['fit'], display_legend=True) \n",
    "fig     = bq.Figure(marks=[points, line], axes=[x_axis, y_axis], layout=Layout(width='30vw', height = '45vh'))\n",
    "right     = VBox(children=[xy_var, fig, renderer], layout=Layout(flex='1 1 0%', width='auto', height='80vh', align_items='center', flex_direction=\"column\"))"
   ]
  },
  {
   "cell_type": "code",
   "execution_count": 15,
   "metadata": {
    "ExecuteTime": {
     "end_time": "2021-06-03T11:09:20.553124Z",
     "start_time": "2021-06-03T11:09:19.408017Z"
    }
   },
   "outputs": [],
   "source": [
    "# INTERACTION"
   ]
  },
  {
   "cell_type": "code",
   "execution_count": 16,
   "metadata": {
    "ExecuteTime": {
     "end_time": "2021-06-03T11:09:21.504348Z",
     "start_time": "2021-06-03T11:09:20.555123Z"
    }
   },
   "outputs": [],
   "source": [
    "# function for updating all data : used withe selection and upload widgets\n",
    "@out.capture()\n",
    "def update_all(file):\n",
    "    with out:\n",
    "        tlm.get_data(file)\n",
    "        x_var.options = tlm.data.columns\n",
    "        y_var.options = tlm.data.columns\n",
    "        x_var.value = 'Dist(m)'\n",
    "        y_var.value = 'RSSI(dB)'\n",
    "        #tlm.data = tlm.data.sort_values(x_var.value)\n",
    "        time_slider.max = len(tlm.time)\n",
    "        # update map\n",
    "        my_map.center   = np.mean(tlm.lat), np.mean(tlm.lon)\n",
    "        my_map.layers[1].location = (tlm.lat.iloc[0], tlm.lon.iloc[0])\n",
    "        my_map.layers[2].locations = [(x, y) for x, y in zip(tlm.lat, tlm.lon)]\n",
    "        # update graph\n",
    "        points.x = tlm.data['Dist(m)']\n",
    "        line.x   = np.sort(tlm.dist_filt)\n",
    "        points.y = tlm.data['RSSI(dB)']\n",
    "        line.y   = tlm.rssi_dist\n",
    "        # update stats\n",
    "        dist_max.value  = \"<b>Distance (m)</b> : \"+tlm.max_dist+\" / \"+max_dist_tot\n",
    "        speed_max.value = \"<b>Speed (km/h)</b> : \"+tlm.max_speed+\" / \"+max_speed_tot\n",
    "        alt_max.value   = \"<b>Altitude (m)</b> : \"+tlm.max_alt+\" / \"+max_alt_tot"
   ]
  },
  {
   "cell_type": "code",
   "execution_count": 17,
   "metadata": {
    "ExecuteTime": {
     "end_time": "2021-06-03T11:09:23.266414Z",
     "start_time": "2021-06-03T11:09:21.507182Z"
    }
   },
   "outputs": [],
   "source": [
    "@out.capture()\n",
    "def file_change(change):\n",
    "    with out:\n",
    "        update_all('logs/'+change['new'])\n",
    "file_select.observe(file_change, names='value')\n",
    "\n",
    "@out.capture()\n",
    "def upload_change(change):\n",
    "    with out:\n",
    "        uploaded_file = change['new']\n",
    "        file = io.BytesIO(next(iter(uploaded_file.values()))['content'])\n",
    "        update_all(file)\n",
    "uploader.observe(upload_change, names='value')\n",
    "\n",
    "@out.capture()\n",
    "def xaxis_change(change):\n",
    "    with out:\n",
    "        if (change['new'] != 'Dist(m)') or (change['new'] != 'Time'):\n",
    "            line.y   = []\n",
    "        #tlm.data = tlm.data.sort_values(change['new'])\n",
    "        points.x = tlm.data[change['new']]\n",
    "        points.y = tlm.data[y_var.value]\n",
    "        x_axis.label = change['new']\n",
    "        tooltip.labels[0] = change['new']\n",
    "        #line.marker = 'circle'\n",
    "        line.line_style = 'solid'\n",
    "x_var.observe(xaxis_change, names='value')\n",
    "\n",
    "@out.capture()\n",
    "def yaxis_change(change):\n",
    "    with out:\n",
    "        if (change['new'] != 'Rssi(dB)'):\n",
    "            line.y   = []        \n",
    "        points.y = tlm.data[change['new']]\n",
    "        y_axis.label = change['new']\n",
    "        tooltip.labels[1] = change['new']\n",
    "y_var.observe(yaxis_change, names='value')\n",
    "\n",
    "@out.capture()\n",
    "def time_change(change):\n",
    "    with out:\n",
    "        last_time = change['new']\n",
    "        my_map.layers[2].locations = [(x, y) for x, y in zip(tlm.lat[:last_time], tlm.lon[:last_time])]\n",
    "        my_map.layers[3].location = (tlm.lat.iloc[last_time-1], tlm.lon.iloc[last_time-1])\n",
    "        my_map.layers[3].rotation_angle = tlm.hdg.iloc[last_time-1]\n",
    "        points.x = tlm.data[x_var.value].iloc[:last_time-1]\n",
    "        points.y = tlm.data[y_var.value].iloc[:last_time-1]\n",
    "        dist_curr.value  = '<b>Distance (m)</b> : '+str(tlm.dist.iloc[last_time-1])\n",
    "        speed_curr.value = '<b>Speed (km/h)</b> : '+str(tlm.speed.iloc[last_time-1])\n",
    "        alt_curr.value   = '<b>Altitude (m)</b> : '+str(tlm.alt.iloc[last_time-1])\n",
    "time_slider.observe(time_change, names='value')"
   ]
  },
  {
   "cell_type": "code",
   "execution_count": 18,
   "metadata": {
    "ExecuteTime": {
     "end_time": "2021-06-03T11:09:24.262474Z",
     "start_time": "2021-06-03T11:09:23.268411Z"
    }
   },
   "outputs": [],
   "source": [
    "# DISPLAY"
   ]
  },
  {
   "cell_type": "code",
   "execution_count": 19,
   "metadata": {
    "ExecuteTime": {
     "end_time": "2021-06-03T11:20:53.369243Z",
     "start_time": "2021-06-03T11:20:53.291451Z"
    }
   },
   "outputs": [
    {
     "data": {
      "application/vnd.jupyter.widget-view+json": {
       "model_id": "59b657f64e594f019049fdbd0515615a",
       "version_major": 2,
       "version_minor": 0
      },
      "text/plain": [
       "HBox(children=(VBox(children=(FileUpload(value=(), accept='.csv', description='Upload', layout=Layout(width='1…"
      ]
     },
     "metadata": {},
     "output_type": "display_data"
    },
    {
     "data": {
      "application/vnd.jupyter.widget-view+json": {
       "model_id": "9a9a6a653b1c41b9bbe54526adce7c5a",
       "version_major": 2,
       "version_minor": 0
      },
      "text/plain": [
       "Output()"
      ]
     },
     "metadata": {},
     "output_type": "display_data"
    }
   ],
   "source": [
    "display(HBox(children=[left, center, right]), out)"
   ]
  },
  {
   "cell_type": "code",
   "execution_count": 20,
   "metadata": {
    "ExecuteTime": {
     "end_time": "2021-06-03T11:09:25.709603Z",
     "start_time": "2021-06-03T11:09:25.177027Z"
    }
   },
   "outputs": [],
   "source": [
    "@out.capture()\n",
    "def pitot_change(change):\n",
    "    with out:\n",
    "        if 'ASpd(kmh)' in tlm.data.keys():\n",
    "            # original\n",
    "            plt.figure(figsize=(20,5))\n",
    "            plt.subplot(131)\n",
    "            plt.plot(tlm.data['ASpd(kmh)'], label='ASpd(kmh)')\n",
    "            plt.plot(tlm.data['GSpd(kmh)'], label='GSpd(kmh)')\n",
    "            plt.xlabel('time',fontsize=15)\n",
    "            plt.legend()\n",
    "            # fit\n",
    "            d = tlm.data['ASpd(kmh)']\n",
    "            x = np.arange(d.max())\n",
    "            seuil = 15\n",
    "            def func(x, a):\n",
    "                return a * x\n",
    "            a, pcov = curve_fit(func, tlm.data['ASpd(kmh)'][d>seuil], tlm.data['GSpd(kmh)'][d>seuil])\n",
    "            plt.subplot(132)\n",
    "            plt.plot(tlm.data['ASpd(kmh)'], tlm.data['GSpd(kmh)'],'.')\n",
    "            plt.plot(tlm.data['ASpd(kmh)'], func(tlm.data['ASpd(kmh)'], *a))\n",
    "            plt.title('scale={:.2f}'.format(a[0]))\n",
    "            plt.subplot(133)\n",
    "            plt.plot(a[0]*tlm.data['ASpd(kmh)'], label='ASpd(kmh)')\n",
    "            plt.plot(tlm.data['GSpd(kmh)'], label='GSpd(kmh)')\n",
    "            plt.xlabel('time',fontsize=15)\n",
    "            plt.legend()\n",
    "            plt.show()\n",
    "pitot.observe(pitot_change, names='value')"
   ]
  },
  {
   "cell_type": "code",
   "execution_count": 21,
   "metadata": {
    "ExecuteTime": {
     "end_time": "2021-06-03T11:09:29.396845Z",
     "start_time": "2021-06-03T11:09:27.408734Z"
    }
   },
   "outputs": [],
   "source": [
    "# video"
   ]
  },
  {
   "cell_type": "code",
   "execution_count": 22,
   "metadata": {
    "ExecuteTime": {
     "end_time": "2021-06-03T11:09:30.110630Z",
     "start_time": "2021-06-03T11:09:29.399843Z"
    }
   },
   "outputs": [],
   "source": [
    "#video = widgets.Video.from_file(\"../../videos/RC_VID_0015.MOV\", autoplay=False, layout=Layout(width='14vw'))"
   ]
  },
  {
   "cell_type": "code",
   "execution_count": null,
   "metadata": {},
   "outputs": [],
   "source": []
  }
 ],
 "metadata": {
  "kernelspec": {
   "display_name": "py312",
   "language": "python",
   "name": "python3"
  },
  "language_info": {
   "codemirror_mode": {
    "name": "ipython",
    "version": 3
   },
   "file_extension": ".py",
   "mimetype": "text/x-python",
   "name": "python",
   "nbconvert_exporter": "python",
   "pygments_lexer": "ipython3",
   "version": "3.12.9"
  },
  "toc": {
   "base_numbering": 1,
   "nav_menu": {},
   "number_sections": true,
   "sideBar": true,
   "skip_h1_title": false,
   "title_cell": "Table of Contents",
   "title_sidebar": "Contents",
   "toc_cell": false,
   "toc_position": {},
   "toc_section_display": true,
   "toc_window_display": false
  },
  "varInspector": {
   "cols": {
    "lenName": 16,
    "lenType": 16,
    "lenVar": 40
   },
   "kernels_config": {
    "python": {
     "delete_cmd_postfix": "",
     "delete_cmd_prefix": "del ",
     "library": "var_list.py",
     "varRefreshCmd": "print(var_dic_list())"
    },
    "r": {
     "delete_cmd_postfix": ") ",
     "delete_cmd_prefix": "rm(",
     "library": "var_list.r",
     "varRefreshCmd": "cat(var_dic_list()) "
    }
   },
   "types_to_exclude": [
    "module",
    "function",
    "builtin_function_or_method",
    "instance",
    "_Feature"
   ],
   "window_display": false
  }
 },
 "nbformat": 4,
 "nbformat_minor": 4
}
