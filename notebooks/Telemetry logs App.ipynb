{
 "cells": [
  {
   "cell_type": "code",
   "execution_count": 1,
   "metadata": {
    "ExecuteTime": {
     "end_time": "2021-01-07T19:28:18.902735Z",
     "start_time": "2021-01-07T19:28:16.037578Z"
    }
   },
   "outputs": [],
   "source": [
    "import pandas as pd\n",
    "import os\n",
    "import glob\n",
    "import numpy as np\n",
    "import ipyvuetify as v\n",
    "import ipywidgets as widgets\n",
    "from ipywidgets import Layout, Button, Box, VBox, HBox\n",
    "from ipyleaflet import AwesomeIcon, Marker, Map, Icon, Popup, basemaps, Polyline\n",
    "from bqplot import Axis, Figure, Lines, LinearScale\n",
    "import bqplot as bq\n",
    "import matplotlib.pyplot as plt\n",
    "import matplotlib as mpl\n",
    "import io\n",
    "#from stl import mesh\n",
    "#import ipyvolume as ipv"
   ]
  },
  {
   "cell_type": "code",
   "execution_count": 2,
   "metadata": {
    "ExecuteTime": {
     "end_time": "2021-01-07T19:28:18.918693Z",
     "start_time": "2021-01-07T19:28:18.904731Z"
    }
   },
   "outputs": [],
   "source": [
    "# TO DO : add title, image (inav, x-lite, moi qui vole sur l'aile)\n",
    "# sort value before fitting ? it will destroy time slider interaction ?\n",
    "# add HD video visualisation"
   ]
  },
  {
   "cell_type": "code",
   "execution_count": 3,
   "metadata": {
    "ExecuteTime": {
     "end_time": "2021-01-07T19:28:19.198191Z",
     "start_time": "2021-01-07T19:28:18.920688Z"
    }
   },
   "outputs": [
    {
     "data": {
      "application/vnd.jupyter.widget-view+json": {
       "model_id": "cbba15552168461cac74a67fd526a405",
       "version_major": 2,
       "version_minor": 0
      },
      "text/plain": [
       "HTML(value='<center> <img src=\"images/gaju_fpv.gif\" align=\"middle\" class=\"center\"> </center>')"
      ]
     },
     "metadata": {},
     "output_type": "display_data"
    }
   ],
   "source": [
    "widgets.HTML('<center> <img src=\"images/gaju_fpv.gif\" align=\"middle\" class=\"center\"> </center>')"
   ]
  },
  {
   "cell_type": "code",
   "execution_count": 4,
   "metadata": {
    "ExecuteTime": {
     "end_time": "2021-01-07T19:28:19.446525Z",
     "start_time": "2021-01-07T19:28:19.201183Z"
    }
   },
   "outputs": [],
   "source": [
    "def get_rssi(RSSI, dist):\n",
    "    [a,b] = np.polyfit(np.log(dist), RSSI, 1)\n",
    "    rssi_time = a * np.log(dist) + b\n",
    "    rssi_dist = a * np.log(np.sort(dist)) + b\n",
    "    return rssi_time, rssi_dist\n",
    "\n",
    "def get_max(data, data_type='str'):\n",
    "    max_dist  = np.max(data['Dist(m)'])\n",
    "    max_speed = np.max(data['GSpd(kmh)'])\n",
    "    max_alt   = np.max(data['Alt(m)'])\n",
    "    if data_type==\"str\":\n",
    "        max_dist  = str(max_dist)\n",
    "        max_speed = str(max_speed)\n",
    "        max_alt   = str(max_alt)\n",
    "    return max_dist, max_speed, max_alt"
   ]
  },
  {
   "cell_type": "code",
   "execution_count": 5,
   "metadata": {
    "ExecuteTime": {
     "end_time": "2021-01-07T19:28:19.681896Z",
     "start_time": "2021-01-07T19:28:19.448521Z"
    }
   },
   "outputs": [],
   "source": [
    "files = glob.glob('logs/*.csv')"
   ]
  },
  {
   "cell_type": "code",
   "execution_count": 6,
   "metadata": {
    "ExecuteTime": {
     "end_time": "2021-01-07T19:28:20.107613Z",
     "start_time": "2021-01-07T19:28:19.685886Z"
    }
   },
   "outputs": [],
   "source": [
    "# Get max stats\n",
    "max_dist_tot, max_speed_tot, max_alt_tot = 0, 0, 0\n",
    "for file in files:\n",
    "    data = pd.read_csv(file, sep=';')\n",
    "    new_dist, new_speed, new_alt = get_max(data, data_type='int')\n",
    "    max_dist_tot  = np.max([max_dist_tot,new_dist])\n",
    "    max_speed_tot = np.max([max_speed_tot,new_speed])\n",
    "    max_alt_tot   = np.max([max_alt_tot,new_alt])\n",
    "max_dist_tot  = str(max_dist_tot)\n",
    "max_speed_tot = str(max_speed_tot)\n",
    "max_alt_tot   = str(max_alt_tot)"
   ]
  },
  {
   "cell_type": "code",
   "execution_count": 7,
   "metadata": {
    "ExecuteTime": {
     "end_time": "2021-01-07T19:28:20.138857Z",
     "start_time": "2021-01-07T19:28:20.107613Z"
    }
   },
   "outputs": [],
   "source": [
    "class TelemetryData:\n",
    "    def __init__(self):\n",
    "        self.dist, self.rssi = [], []\n",
    "        self.lon, self.lat   = [], []\n",
    "        self.time = []\n",
    "        self.rssi_time, self.rssi_dist = [], []\n",
    "        self.dist, self.speed, self.alt = 0, 0, 0\n",
    "        self.max_dist, self.max_speed, self.max_alt = 0, 0, 0\n",
    "        self.data = []\n",
    "    def get_data(self, file):\n",
    "        self.data = pd.read_csv(file, sep=';', parse_dates=[0,1] , infer_datetime_format=True)\n",
    "        #self.data = data.interpolate(method='nearest', column=['GPS(lat)','GPS(lon)']).ffill().bfill()\n",
    "        self.data = self.data[~(self.data['GPS(lat)'].isnull())]\n",
    "        dist, rssi = self.data['Dist(m)'], self.data['RSSI(dB)']\n",
    "        filt = (rssi != 0) & (dist != 0)\n",
    "        self.dist = dist[filt]\n",
    "        self.rssi = rssi[filt]\n",
    "        self.lon  = self.data['GPS(lon)'][filt]\n",
    "        self.lat  = self.data['GPS(lat)'][filt]\n",
    "        self.time = np.arange(len(self.data['Time']))\n",
    "        self.rssi_time, self.rssi_dist = get_rssi(self.rssi, self.dist)\n",
    "        self.speed, self.alt = self.data['GSpd(kmh)'][filt], self.data['Alt(m)'][filt]\n",
    "        self.max_dist, self.max_speed, self.max_alt = get_max(self.data)"
   ]
  },
  {
   "cell_type": "code",
   "execution_count": 8,
   "metadata": {
    "ExecuteTime": {
     "end_time": "2021-01-07T19:28:20.515373Z",
     "start_time": "2021-01-07T19:28:20.138857Z"
    }
   },
   "outputs": [],
   "source": [
    "# Initialize Data\n",
    "tlm = TelemetryData()\n",
    "tlm.get_data(files[0])"
   ]
  },
  {
   "cell_type": "code",
   "execution_count": 9,
   "metadata": {
    "ExecuteTime": {
     "end_time": "2021-01-07T19:28:20.625079Z",
     "start_time": "2021-01-07T19:28:20.517367Z"
    }
   },
   "outputs": [],
   "source": [
    "# MAIN COMPONENTS"
   ]
  },
  {
   "cell_type": "code",
   "execution_count": 10,
   "metadata": {
    "ExecuteTime": {
     "end_time": "2021-01-07T19:28:20.891366Z",
     "start_time": "2021-01-07T19:28:20.628071Z"
    }
   },
   "outputs": [],
   "source": [
    "out = widgets.Output()"
   ]
  },
  {
   "cell_type": "code",
   "execution_count": 11,
   "metadata": {
    "ExecuteTime": {
     "end_time": "2021-01-07T19:28:21.363106Z",
     "start_time": "2021-01-07T19:28:20.894359Z"
    }
   },
   "outputs": [],
   "source": [
    "# left - files\n",
    "uploader    = widgets.FileUpload(accept='.csv', multiple=True, layout=Layout(width='14vw'))\n",
    "file_select = widgets.Dropdown(options=[os.path.basename(f) for f in files], layout=Layout(width='14vw'))\n",
    "#if file_exist:\n",
    "#video       = widgets.Video.from_file(\"videos/Big.Buck.Bunny.mp4\", autoplay=False,layout=Layout(width='14vw'))\n",
    "ar_wing    = widgets.HTML('<center> <img src=\"images/ar_wing.png\" align=\"middle\" class=\"center\"> </center>')\n",
    "dist_curr  = widgets.HTML(value='<b>Distance (m)</b> : '+str(tlm.dist.iloc[100]))\n",
    "speed_curr = widgets.HTML(value='<b>Speed (km/h)</b> : '+str(tlm.speed.iloc[100]))\n",
    "alt_curr   = widgets.HTML(value='<b>Altitude (m)</b> : '+str(tlm.alt.iloc[100]))\n",
    "infos      = VBox(children=[dist_curr, speed_curr, alt_curr], layout=Layout(align_items='center', border='solid 1px black', flex_direction='column', align_content='flex-end'))\n",
    "infos_     = VBox(children=[ar_wing, infos], layout=Layout(align_items='center', flex_direction='column', align_content='flex-end'))\n",
    "left       = VBox(children=[uploader,file_select,infos_])#,video])\n",
    "\n",
    "# center - map and time slider\n",
    "my_map      = Map(basemap=basemaps.Esri.WorldImagery, center=(np.mean(tlm.lat), np.mean(tlm.lon)), zoom=16)\n",
    "icon_home   = AwesomeIcon(name='home', icon_color=\"white\", marker_color='black')\n",
    "marker_home = Marker(icon=icon_home, location=(tlm.lat.iloc[0], tlm.lon.iloc[0]))\n",
    "line_map    = Polyline(locations=[(x, y) for x, y in zip(tlm.lat, tlm.lon)], color = \"red\", fill=False, weight=2)\n",
    "time_slider = widgets.IntSlider(value=len(tlm.time), max=len(tlm.time), layout=Layout(flex='1.5 1 0%', width='auto'))\n",
    "play_button = widgets.Play(max=len(tlm.time))\n",
    "animation   = widgets.HBox([play_button, time_slider]) \n",
    "my_map.add_layer(marker_home)\n",
    "my_map.add_layer(line_map)\n",
    "widgets.jslink((play_button, 'value'), (time_slider, 'value'))\n",
    "center = VBox(children=[my_map, animation], layout=Layout(flex='1.5 1 0%', width='auto', height='80vh', align_content='center', justify_content=\"center\"))\n",
    "    \n",
    "# right - rssi graphs and records\n",
    "x_var = widgets.Dropdown(options=tlm.data.columns, description='X axis :', value = 'Dist(m)', layout=Layout(width='12vw'))\n",
    "y_var = widgets.Dropdown(options=tlm.data.columns, description='Y axis :', value = 'RSSI(dB)', layout=Layout(width='12vw'))\n",
    "fit_button = widgets.ToggleButton(value=False, description='Fit', button_style='', icon='bolt', layout=Layout(width='5vw'))\n",
    "xy_var  = widgets.HBox([x_var, y_var, fit_button], layout=Layout(width='auto', height='auto', align_content='center', justify_content=\"center\")) \n",
    "xs, ys  = bq.LinearScale(), bq.LinearScale()\n",
    "y_axis  = bq.Axis(scale=ys, label='RSSI(dB)', grid_lines='solid', orientation='vertical' )\n",
    "x_axis  = bq.Axis(scale=xs, label='Dist(m)', grid_lines='solid')\n",
    "tooltip = bq.Tooltip(fields=['x', 'y'], labels=['dist','rssi'])\n",
    "points  = bq.Scatter(x=tlm.dist, y=tlm.rssi, scales={'x':xs,'y':ys}, default_size=20, labels=['data'], display_legend=True, tooltip=tooltip, unhovered_style={'opacity': 0.5})\n",
    "line    = bq.Lines(x=np.sort(tlm.dist), y=tlm.rssi_dist, scales={'x': xs, 'y': ys}, colors=['red'], labels=['fit'], display_legend=True) \n",
    "fig     = bq.Figure(marks=[points, line], axes=[x_axis, y_axis], layout=Layout(width='30vw', height = '45vh'))\n",
    "dist_max  = widgets.HTML(value=\"<b>Distance (m)</b> : \"+tlm.max_dist+\" / \"+max_dist_tot)\n",
    "speed_max = widgets.HTML(value=\"<b>Speed (km/h)</b> : \"+tlm.max_speed+\" / \"+max_speed_tot)\n",
    "alt_max   = widgets.HTML(value=\"<b>Altitude (m)</b> : \"+tlm.max_alt+\" / \"+max_alt_tot)\n",
    "trophee   = widgets.HTML('<center> <img src=\"images/trophy.jpg\" align=\"middle\" class=\"center\"> </center>')\n",
    "records   = VBox(children=[dist_max, speed_max, alt_max], layout=Layout(width='auto', height='20vh', align_items='center', border='solid 1px black'))\n",
    "right     = VBox(children=[xy_var, fig, trophee, records], layout=Layout(flex='1 1 0%', width='auto', height='80vh', align_items='center', flex_direction=\"column\"))"
   ]
  },
  {
   "cell_type": "code",
   "execution_count": 12,
   "metadata": {
    "ExecuteTime": {
     "end_time": "2021-01-07T19:28:21.379063Z",
     "start_time": "2021-01-07T19:28:21.365100Z"
    }
   },
   "outputs": [],
   "source": [
    "# INTERACTION"
   ]
  },
  {
   "cell_type": "code",
   "execution_count": 13,
   "metadata": {
    "ExecuteTime": {
     "end_time": "2021-01-07T19:28:21.582518Z",
     "start_time": "2021-01-07T19:28:21.381057Z"
    }
   },
   "outputs": [],
   "source": [
    "# function for updating all data : used withe slection and upload widgets\n",
    "@out.capture()\n",
    "def update_all(file):\n",
    "    with out:\n",
    "        tlm.get_data(file)\n",
    "        x_var.options = tlm.data.columns\n",
    "        y_var.options = tlm.data.columns\n",
    "        x_var.value = 'Dist(m)'\n",
    "        y_var.value = 'RSSI(dB)'\n",
    "        tlm.data = tlm.data.sort_values(x_var.value)\n",
    "        time_slider.max = len(tlm.time)\n",
    "        # update map\n",
    "        my_map.center   = np.mean(tlm.lat), np.mean(tlm.lon)\n",
    "        my_map.layers[1].location = (tlm.lat.iloc[0], tlm.lon.iloc[0])\n",
    "        my_map.layers[2].locations = [(x, y) for x, y in zip(tlm.lat, tlm.lon)]\n",
    "        # update graph\n",
    "        points.x = tlm.data[x_var.value]\n",
    "        line.x   = tlm.data[x_var.value]\n",
    "        points.y = tlm.data[y_var.value]\n",
    "        line.y   = tlm.data[y_var.value]\n",
    "        # update stats\n",
    "        dist_max.value  = \"<b>Distance (m)</b> : \"+tlm.max_dist+\" / \"+max_dist_tot\n",
    "        speed_max.value = \"<b>Speed (km/h)</b> : \"+tlm.max_speed+\" / \"+max_speed_tot\n",
    "        alt_max.value   = \"<b>Altitude (m)</b> : \"+tlm.max_alt+\" / \"+max_alt_tot"
   ]
  },
  {
   "cell_type": "code",
   "execution_count": 14,
   "metadata": {
    "ExecuteTime": {
     "end_time": "2021-01-07T19:28:21.786451Z",
     "start_time": "2021-01-07T19:28:21.584514Z"
    }
   },
   "outputs": [],
   "source": [
    "@out.capture()\n",
    "def file_change(change):\n",
    "    with out:\n",
    "        update_all('logs/'+change['new'])\n",
    "file_select.observe(file_change, names='value')\n",
    "\n",
    "@out.capture()\n",
    "def upload_change(change):\n",
    "    with out:\n",
    "        uploaded_file = change['new']\n",
    "        file = io.BytesIO(next(iter(uploaded_file.values()))['content'])\n",
    "        update_all(file)\n",
    "uploader.observe(upload_change, names='value')\n",
    "\n",
    "@out.capture()\n",
    "def xaxis_change(change):\n",
    "    with out:\n",
    "        if (change['new'] != 'Dist(m)') or (change['new'] != 'Time'):\n",
    "            line.y   = []\n",
    "        tlm.data = tlm.data.sort_values(change['new'])\n",
    "        points.x = tlm.data[change['new']]\n",
    "        points.y = tlm.data[y_var.value]\n",
    "        x_axis.label = change['new']\n",
    "        tooltip.labels[0] = change['new']\n",
    "        #line.marker = 'circle'\n",
    "        line.line_style = 'solid'\n",
    "x_var.observe(xaxis_change, names='value')\n",
    "\n",
    "@out.capture()\n",
    "def yaxis_change(change):\n",
    "    with out:\n",
    "        points.y = tlm.data[change['new']]\n",
    "        y_axis.label = change['new']\n",
    "        tooltip.labels[1] = change['new']\n",
    "y_var.observe(yaxis_change, names='value')\n",
    "\n",
    "@out.capture()\n",
    "def time_change(change):\n",
    "    with out:\n",
    "        last_time = change['new']\n",
    "        my_map.layers[2].locations = [(x, y) for x, y in zip(tlm.lat[:last_time], tlm.lon[:last_time])]\n",
    "        '''if graph_button.value == \"Time\":\n",
    "            points.x, line.x = tlm.time[:last_time], tlm.time[:last_time]\n",
    "            points.y, line.y = tlm.rssi[:last_time], tlm.rssi_time[:last_time]\n",
    "        elif graph_button.value == \"Distance\":\n",
    "            points.x = tlm.dist[:last_time]\n",
    "            points.y = tlm.rssi[:last_time]'''\n",
    "        points.x = tlm.data[x_var.value].iloc[:last_time]\n",
    "        points.y = tlm.data[y_var.value].iloc[:last_time]\n",
    "        dist_curr.value  = '<b>Distance (m)</b> : '+str(tlm.dist.iloc[last_time-1])\n",
    "        speed_curr.value = '<b>Speed (km/h)</b> : '+str(tlm.speed.iloc[last_time-1])\n",
    "        alt_curr.value   = '<b>Altitude (m)</b> : '+str(tlm.alt.iloc[last_time-1])\n",
    "time_slider.observe(time_change, names='value')"
   ]
  },
  {
   "cell_type": "code",
   "execution_count": 15,
   "metadata": {
    "ExecuteTime": {
     "end_time": "2021-01-07T19:28:21.992992Z",
     "start_time": "2021-01-07T19:28:21.789444Z"
    }
   },
   "outputs": [],
   "source": [
    "# DISPLAY"
   ]
  },
  {
   "cell_type": "code",
   "execution_count": 16,
   "metadata": {
    "ExecuteTime": {
     "end_time": "2021-01-07T19:28:22.209635Z",
     "start_time": "2021-01-07T19:28:21.992992Z"
    },
    "scrolled": true
   },
   "outputs": [
    {
     "data": {
      "application/vnd.jupyter.widget-view+json": {
       "model_id": "2e3a874817f3497f8992ac6e976ba536",
       "version_major": 2,
       "version_minor": 0
      },
      "text/plain": [
       "HBox(children=(VBox(children=(FileUpload(value={}, accept='.csv', description='Upload', layout=Layout(width='1…"
      ]
     },
     "metadata": {},
     "output_type": "display_data"
    },
    {
     "data": {
      "application/vnd.jupyter.widget-view+json": {
       "model_id": "7f8a8a9489d34fa89a3da176a8a698be",
       "version_major": 2,
       "version_minor": 0
      },
      "text/plain": [
       "Output()"
      ]
     },
     "metadata": {},
     "output_type": "display_data"
    }
   ],
   "source": [
    "display(HBox(children=[left, center, right]), out)"
   ]
  },
  {
   "cell_type": "code",
   "execution_count": 17,
   "metadata": {
    "ExecuteTime": {
     "end_time": "2021-01-07T19:28:22.497697Z",
     "start_time": "2021-01-07T19:28:22.209635Z"
    }
   },
   "outputs": [],
   "source": [
    "# 3D volume"
   ]
  },
  {
   "cell_type": "code",
   "execution_count": 18,
   "metadata": {
    "ExecuteTime": {
     "end_time": "2021-01-07T19:28:22.672874Z",
     "start_time": "2021-01-07T19:28:22.497697Z"
    }
   },
   "outputs": [],
   "source": [
    "#fig = ipv.figure(width=400, height=200,layout=Layout(width='14vw'))\n",
    "#ipv.style.use('minimal')\n",
    "#m = mesh.Mesh.from_file('stl/bixler.stl')\n",
    "#ipv.plot_trisurf(m.x.flatten(), m.z.flatten(), m.y.flatten(), triangles=np.arange(m.x.shape[0] * 3).reshape((m.x.shape[0], 3)), color=\"gray\")\n",
    "#ipv.squarelim()"
   ]
  },
  {
   "cell_type": "code",
   "execution_count": 19,
   "metadata": {
    "ExecuteTime": {
     "end_time": "2021-01-07T19:28:22.945144Z",
     "start_time": "2021-01-07T19:28:22.674869Z"
    }
   },
   "outputs": [],
   "source": [
    "# video"
   ]
  },
  {
   "cell_type": "code",
   "execution_count": 20,
   "metadata": {
    "ExecuteTime": {
     "end_time": "2021-01-07T19:28:23.168134Z",
     "start_time": "2021-01-07T19:28:22.948138Z"
    }
   },
   "outputs": [],
   "source": [
    "#video = widgets.Video.from_file(\"videos/Big.Buck.Bunny.mp4\", autoplay=False,layout=Layout(width='14vw'))"
   ]
  },
  {
   "cell_type": "code",
   "execution_count": 21,
   "metadata": {
    "ExecuteTime": {
     "end_time": "2021-01-07T19:28:23.589031Z",
     "start_time": "2021-01-07T19:28:23.168134Z"
    }
   },
   "outputs": [
    {
     "data": {
      "application/vnd.jupyter.widget-view+json": {
       "model_id": "d8ebe26438d74e04ba1820761606d80b",
       "version_major": 2,
       "version_minor": 0
      },
      "text/plain": [
       "Dropdown(description='X axis :', index=17, layout=Layout(width='12vw'), options=('Date', 'Time', 'BtRx(V)', 'R…"
      ]
     },
     "metadata": {},
     "output_type": "display_data"
    }
   ],
   "source": [
    "x_var = widgets.Dropdown(options=tlm.data.columns, description='X axis :', value = 'Dist(m)', layout=Layout(width='12vw'))\n",
    "x_var"
   ]
  },
  {
   "cell_type": "code",
   "execution_count": null,
   "metadata": {},
   "outputs": [],
   "source": []
  }
 ],
 "metadata": {
  "kernelspec": {
   "display_name": "Python 3",
   "language": "python",
   "name": "python3"
  },
  "language_info": {
   "codemirror_mode": {
    "name": "ipython",
    "version": 3
   },
   "file_extension": ".py",
   "mimetype": "text/x-python",
   "name": "python",
   "nbconvert_exporter": "python",
   "pygments_lexer": "ipython3",
   "version": "3.7.4"
  },
  "toc": {
   "base_numbering": 1,
   "nav_menu": {},
   "number_sections": true,
   "sideBar": true,
   "skip_h1_title": false,
   "title_cell": "Table of Contents",
   "title_sidebar": "Contents",
   "toc_cell": false,
   "toc_position": {},
   "toc_section_display": true,
   "toc_window_display": false
  },
  "varInspector": {
   "cols": {
    "lenName": 16,
    "lenType": 16,
    "lenVar": 40
   },
   "kernels_config": {
    "python": {
     "delete_cmd_postfix": "",
     "delete_cmd_prefix": "del ",
     "library": "var_list.py",
     "varRefreshCmd": "print(var_dic_list())"
    },
    "r": {
     "delete_cmd_postfix": ") ",
     "delete_cmd_prefix": "rm(",
     "library": "var_list.r",
     "varRefreshCmd": "cat(var_dic_list()) "
    }
   },
   "types_to_exclude": [
    "module",
    "function",
    "builtin_function_or_method",
    "instance",
    "_Feature"
   ],
   "window_display": false
  }
 },
 "nbformat": 4,
 "nbformat_minor": 4
}
