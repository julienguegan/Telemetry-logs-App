{
 "cells": [
  {
   "cell_type": "code",
   "execution_count": 7,
   "metadata": {
    "ExecuteTime": {
     "end_time": "2021-04-21T20:03:13.223081Z",
     "start_time": "2021-04-21T20:03:13.209054Z"
    }
   },
   "outputs": [],
   "source": [
    "import pandas as pd\n",
    "import matplotlib.pyplot as plt\n",
    "import numpy as np\n",
    "import os"
   ]
  },
  {
   "cell_type": "code",
   "execution_count": 2,
   "metadata": {
    "ExecuteTime": {
     "end_time": "2021-04-21T20:02:23.368146Z",
     "start_time": "2021-04-21T20:02:23.339358Z"
    }
   },
   "outputs": [],
   "source": [
    "file = 'E:\\LOGS\\AR_Wing-2021-01-29.csv'\n",
    "data = pd.read_csv(file, sep=',')#, parse_dates=[0,1] , infer_datetime_format=True)\n",
    "data[['GPS(lat)', 'GPS(lon)']] = data['GPS'].str.split(' ', 1, expand=True)"
   ]
  },
  {
   "cell_type": "code",
   "execution_count": 3,
   "metadata": {
    "ExecuteTime": {
     "end_time": "2021-04-21T20:02:24.485342Z",
     "start_time": "2021-04-21T20:02:23.371137Z"
    }
   },
   "outputs": [],
   "source": [
    "seconds = pd.to_datetime(data['Time']).astype('int64')//1e9"
   ]
  },
  {
   "cell_type": "code",
   "execution_count": 4,
   "metadata": {
    "ExecuteTime": {
     "end_time": "2021-04-21T20:02:26.855403Z",
     "start_time": "2021-04-21T20:02:24.488187Z"
    }
   },
   "outputs": [],
   "source": [
    "threshold = 10*60 # 10 minutes de différences entre 2 vols distincts\n",
    "new_flight_pos = np.where(np.diff(seconds) > threshold)[0]"
   ]
  },
  {
   "cell_type": "code",
   "execution_count": 5,
   "metadata": {
    "ExecuteTime": {
     "end_time": "2021-04-21T20:02:29.372902Z",
     "start_time": "2021-04-21T20:02:26.857183Z"
    }
   },
   "outputs": [],
   "source": [
    "if new_flight_pos.size > 0:\n",
    "    flights = []\n",
    "    flights.append(data[0:new_flight_pos[0]-1])\n",
    "    for i in range(len(new_flight_pos)-1):\n",
    "        flights.append(data[new_flight_pos[i]:new_flight_pos[i+1]-1])\n",
    "    flights.append(data[new_flight_pos[-1]:])\n",
    "else:\n",
    "    flights = [data]"
   ]
  },
  {
   "cell_type": "code",
   "execution_count": 8,
   "metadata": {
    "ExecuteTime": {
     "end_time": "2021-04-21T20:03:15.757958Z",
     "start_time": "2021-04-21T20:03:15.733953Z"
    }
   },
   "outputs": [],
   "source": [
    "for i,f in enumerate(flights):\n",
    "    f.to_csv(os.path.basename(file[:-4])+'_'+str(i)+'.csv', index=False, sep=\";\")"
   ]
  },
  {
   "cell_type": "code",
   "execution_count": 9,
   "metadata": {
    "ExecuteTime": {
     "end_time": "2021-04-21T20:06:40.600904Z",
     "start_time": "2021-04-21T20:06:40.583951Z"
    }
   },
   "outputs": [
    {
     "data": {
      "text/plain": [
       "Index(['Date', 'Time', 'BtRx(V)', 'RSSI(dB)', 'AccZ(g)', 'Tmp1(@C)', 'A4(V)',\n",
       "       'VFAS(V)', 'Curr(A)', 'Alt(m)', 'Fuel(%)', 'VSpd(m/s)', 'Hdg(@)',\n",
       "       'AccX(g)', 'AccY(g)', '0450', 'Tmp2(@C)', 'Dist(m)', 'GAlt(m)',\n",
       "       'GSpd(kmh)', 'GPS', 'ASpd(kmh)', 'Alt(m).1', 'Dir', 'Prf', 'Gaz', 'Ail',\n",
       "       'S1', 'S2', 'SA', 'SB', 'SC', 'SD', 'LSW', 'TxBat(V)', 'GPS(lat)',\n",
       "       'GPS(lon)'],\n",
       "      dtype='object')"
      ]
     },
     "execution_count": 9,
     "metadata": {},
     "output_type": "execute_result"
    }
   ],
   "source": [
    "data.columns"
   ]
  },
  {
   "cell_type": "code",
   "execution_count": 25,
   "metadata": {
    "ExecuteTime": {
     "end_time": "2021-04-21T20:12:16.809870Z",
     "start_time": "2021-04-21T20:12:16.594185Z"
    }
   },
   "outputs": [
    {
     "data": {
      "text/plain": [
       "<matplotlib.legend.Legend at 0x25310223c88>"
      ]
     },
     "execution_count": 25,
     "metadata": {},
     "output_type": "execute_result"
    },
    {
     "data": {
      "image/png": "[encoded data removed]",
      "text/plain": [
       "<Figure size 432x288 with 1 Axes>"
      ]
     },
     "metadata": {
      "needs_background": "light"
     },
     "output_type": "display_data"
    }
   ],
   "source": [
    "plt.plot(data['Dir'], label='Dir')\n",
    "plt.plot(data['Prf'], label='Prf')\n",
    "plt.plot(data['Gaz'], label='Gaz')\n",
    "plt.plot(data['Ail'], label='Ail')\n",
    "plt.legend()"
   ]
  },
  {
   "cell_type": "code",
   "execution_count": 26,
   "metadata": {
    "ExecuteTime": {
     "end_time": "2021-04-21T20:13:05.997642Z",
     "start_time": "2021-04-21T20:13:05.766572Z"
    }
   },
   "outputs": [
    {
     "data": {
      "text/plain": [
       "<matplotlib.legend.Legend at 0x253102bef48>"
      ]
     },
     "execution_count": 26,
     "metadata": {},
     "output_type": "execute_result"
    },
    {
     "data": {
      "image/png": "[encoded data removed]",
      "text/plain": [
       "<Figure size 432x288 with 1 Axes>"
      ]
     },
     "metadata": {
      "needs_background": "light"
     },
     "output_type": "display_data"
    }
   ],
   "source": [
    "plt.plot(data['S1'], label='S1')\n",
    "plt.plot(data['S2'], label='S2')\n",
    "plt.plot(data['SA'], label='SA')\n",
    "plt.plot(data['SB'], label='SB')\n",
    "plt.plot(data['SC'], label='SC')\n",
    "plt.plot(data['SD'], label='SD')\n",
    "plt.legend()"
   ]
  },
  {
   "cell_type": "code",
   "execution_count": null,
   "metadata": {},
   "outputs": [],
   "source": []
  }
 ],
 "metadata": {
  "kernelspec": {
   "display_name": "Python 3",
   "language": "python",
   "name": "python3"
  },
  "language_info": {
   "codemirror_mode": {
    "name": "ipython",
    "version": 3
   },
   "file_extension": ".py",
   "mimetype": "text/x-python",
   "name": "python",
   "nbconvert_exporter": "python",
   "pygments_lexer": "ipython3",
   "version": "3.7.4"
  },
  "toc": {
   "base_numbering": 1,
   "nav_menu": {},
   "number_sections": true,
   "sideBar": true,
   "skip_h1_title": false,
   "title_cell": "Table of Contents",
   "title_sidebar": "Contents",
   "toc_cell": false,
   "toc_position": {},
   "toc_section_display": true,
   "toc_window_display": false
  },
  "varInspector": {
   "cols": {
    "lenName": 16,
    "lenType": 16,
    "lenVar": 40
   },
   "kernels_config": {
    "python": {
     "delete_cmd_postfix": "",
     "delete_cmd_prefix": "del ",
     "library": "var_list.py",
     "varRefreshCmd": "print(var_dic_list())"
    },
    "r": {
     "delete_cmd_postfix": ") ",
     "delete_cmd_prefix": "rm(",
     "library": "var_list.r",
     "varRefreshCmd": "cat(var_dic_list()) "
    }
   },
   "types_to_exclude": [
    "module",
    "function",
    "builtin_function_or_method",
    "instance",
    "_Feature"
   ],
   "window_display": false
  }
 },
 "nbformat": 4,
 "nbformat_minor": 4
}
