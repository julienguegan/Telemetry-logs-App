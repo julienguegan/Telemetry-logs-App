{
 "cells": [
  {
   "cell_type": "code",
   "execution_count": 87,
   "metadata": {
    "ExecuteTime": {
     "end_time": "2021-04-20T19:48:47.541816Z",
     "start_time": "2021-04-20T19:48:47.533838Z"
    }
   },
   "outputs": [],
   "source": [
    "import pandas as pd\n",
    "import matplotlib.pyplot as plt\n",
    "import numpy as np"
   ]
  },
  {
   "cell_type": "code",
   "execution_count": 88,
   "metadata": {
    "ExecuteTime": {
     "end_time": "2021-04-20T19:48:47.790967Z",
     "start_time": "2021-04-20T19:48:47.763622Z"
    }
   },
   "outputs": [],
   "source": [
    "file = 'E:\\LOGS\\AR_Wing-2021-01-28.csv'\n",
    "data = pd.read_csv(file, sep=',')#, parse_dates=[0,1] , infer_datetime_format=True)\n",
    "data[['GPS(lat)', 'GPS(lon)']] = data['GPS'].str.split(' ', 1, expand=True)"
   ]
  },
  {
   "cell_type": "code",
   "execution_count": 89,
   "metadata": {
    "ExecuteTime": {
     "end_time": "2021-04-20T19:48:48.121155Z",
     "start_time": "2021-04-20T19:48:47.998483Z"
    }
   },
   "outputs": [],
   "source": [
    "seconds = pd.to_datetime(data['Time']).astype('int64')//1e9"
   ]
  },
  {
   "cell_type": "code",
   "execution_count": 90,
   "metadata": {
    "ExecuteTime": {
     "end_time": "2021-04-20T19:48:48.418360Z",
     "start_time": "2021-04-20T19:48:48.401407Z"
    }
   },
   "outputs": [],
   "source": [
    "threshold = 10*60 # 10 minutes de différences entre 2 vols distincts\n",
    "new_flight_pos = np.where(np.diff(seconds) > threshold)[0]"
   ]
  },
  {
   "cell_type": "code",
   "execution_count": 91,
   "metadata": {
    "ExecuteTime": {
     "end_time": "2021-04-20T19:48:49.036594Z",
     "start_time": "2021-04-20T19:48:49.018642Z"
    }
   },
   "outputs": [],
   "source": [
    "flights = []\n",
    "flights.append(data[0:new_flight_pos[0]-1])\n",
    "for i in range(len(new_flight_pos)-1):\n",
    "    flights.append(data[new_flight_pos[i]:new_flight_pos[i+1]-1])\n",
    "flights.append(data[new_flight_pos[-1]:])"
   ]
  },
  {
   "cell_type": "code",
   "execution_count": 96,
   "metadata": {
    "ExecuteTime": {
     "end_time": "2021-04-20T19:54:43.912801Z",
     "start_time": "2021-04-20T19:54:43.624015Z"
    }
   },
   "outputs": [],
   "source": [
    "for i,f in enumerate(flights):\n",
    "    f.to_csv(file[:-4]+'_'+str(i)+'.csv', index=False, sep=\";\")"
   ]
  },
  {
   "cell_type": "code",
   "execution_count": null,
   "metadata": {},
   "outputs": [],
   "source": []
  }
 ],
 "metadata": {
  "kernelspec": {
   "display_name": "Python 3",
   "language": "python",
   "name": "python3"
  },
  "language_info": {
   "codemirror_mode": {
    "name": "ipython",
    "version": 3
   },
   "file_extension": ".py",
   "mimetype": "text/x-python",
   "name": "python",
   "nbconvert_exporter": "python",
   "pygments_lexer": "ipython3",
   "version": "3.7.4"
  },
  "toc": {
   "base_numbering": 1,
   "nav_menu": {},
   "number_sections": true,
   "sideBar": true,
   "skip_h1_title": false,
   "title_cell": "Table of Contents",
   "title_sidebar": "Contents",
   "toc_cell": false,
   "toc_position": {},
   "toc_section_display": true,
   "toc_window_display": false
  },
  "varInspector": {
   "cols": {
    "lenName": 16,
    "lenType": 16,
    "lenVar": 40
   },
   "kernels_config": {
    "python": {
     "delete_cmd_postfix": "",
     "delete_cmd_prefix": "del ",
     "library": "var_list.py",
     "varRefreshCmd": "print(var_dic_list())"
    },
    "r": {
     "delete_cmd_postfix": ") ",
     "delete_cmd_prefix": "rm(",
     "library": "var_list.r",
     "varRefreshCmd": "cat(var_dic_list()) "
    }
   },
   "types_to_exclude": [
    "module",
    "function",
    "builtin_function_or_method",
    "instance",
    "_Feature"
   ],
   "window_display": false
  }
 },
 "nbformat": 4,
 "nbformat_minor": 4
}
