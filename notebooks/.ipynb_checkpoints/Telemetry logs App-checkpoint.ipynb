{
 "cells": [
  {
   "cell_type": "code",
   "execution_count": 1,
   "metadata": {
    "ExecuteTime": {
     "end_time": "2020-12-15T18:03:29.658770Z",
     "start_time": "2020-12-15T18:03:29.648797Z"
    }
   },
   "outputs": [],
   "source": [
    "#%matplotlib widget"
   ]
  },
  {
   "cell_type": "markdown",
   "metadata": {
    "ExecuteTime": {
     "end_time": "2020-12-13T13:27:13.163228Z",
     "start_time": "2020-12-13T13:27:13.154458Z"
    }
   },
   "source": [
    "<link href=\"/favicon.ico\" rel=\"shortcut icon\" type=\"images/favicon.icon\" />"
   ]
  },
  {
   "cell_type": "code",
   "execution_count": 2,
   "metadata": {
    "ExecuteTime": {
     "end_time": "2020-12-15T18:03:33.423842Z",
     "start_time": "2020-12-15T18:03:29.661762Z"
    }
   },
   "outputs": [],
   "source": [
    "import pandas as pd\n",
    "import os\n",
    "import glob\n",
    "import numpy as np\n",
    "import ipyvuetify as v\n",
    "import ipywidgets as widgets\n",
    "from ipywidgets import Layout, Button, Box, VBox, HBox\n",
    "from ipyleaflet import AwesomeIcon, Marker, Map, Icon, Popup, basemaps, Polyline\n",
    "from bqplot import Axis, Figure, Lines, LinearScale\n",
    "import bqplot as bq\n",
    "import matplotlib.pyplot as plt\n",
    "import matplotlib as mpl\n",
    "import io\n",
    "#from stl import mesh\n",
    "#import ipyvolume as ipv"
   ]
  },
  {
   "cell_type": "code",
   "execution_count": 3,
   "metadata": {
    "ExecuteTime": {
     "end_time": "2020-12-15T18:03:33.439460Z",
     "start_time": "2020-12-15T18:03:33.426172Z"
    }
   },
   "outputs": [],
   "source": [
    "# TO DO : add title, image (inav, x-lite, moi qui vole sur l'aile, logo GAJUFPV)\n",
    "# sort value before fitting ? it will destroy time slider interaction ?\n",
    "# add HD video visualisation\n",
    "# bug change file and time slider"
   ]
  },
  {
   "cell_type": "code",
   "execution_count": 4,
   "metadata": {
    "ExecuteTime": {
     "end_time": "2020-12-15T18:03:33.642515Z",
     "start_time": "2020-12-15T18:03:33.444447Z"
    }
   },
   "outputs": [
    {
     "data": {
      "application/vnd.jupyter.widget-view+json": {
       "model_id": "269fdb5dcc734c6d9ee94ae9663d1a37",
       "version_major": 2,
       "version_minor": 0
      },
      "text/plain": [
       "HTML(value='<center> <img src=\"images/gaju_fpv.png\" align=\"middle\" class=\"center\"> </center>')"
      ]
     },
     "metadata": {},
     "output_type": "display_data"
    }
   ],
   "source": [
    "widgets.HTML('<center> <img src=\"images/gaju_fpv.png\" align=\"middle\" class=\"center\"> </center>')"
   ]
  },
  {
   "cell_type": "code",
   "execution_count": 5,
   "metadata": {
    "ExecuteTime": {
     "end_time": "2020-12-15T18:03:33.811630Z",
     "start_time": "2020-12-15T18:03:33.645508Z"
    }
   },
   "outputs": [],
   "source": [
    "def get_rssi(RSSI, dist):\n",
    "    [a,b] = np.polyfit(np.log(dist), RSSI, 1)\n",
    "    rssi_time = a * np.log(dist) + b\n",
    "    rssi_dist = a * np.log(np.sort(dist)) + b\n",
    "    return rssi_time, rssi_dist\n",
    "\n",
    "def plot_RSSI_dist(data, data_fit, ax):\n",
    "    RSSI = data['RSSI(dB)']\n",
    "    dist = data['Dist(m)']\n",
    "    ax.plot(dist, RSSI, '.')\n",
    "    line, = ax.plot(dist[dist != 0], data_fit[0], 'r')\n",
    "    ax.set_xlabel('distance (m)'), ax.set_ylabel('RSSI')\n",
    "    ax.set_title('${:.2f}\\ ln(x) + {:.2f}$'.format(data_fit[1],data_fit[2]))\n",
    "    return line\n",
    "\n",
    "def plot_RSSI_time(data, data_fit, ax):\n",
    "    RSSI = data['RSSI(dB)']\n",
    "    dist = data['Dist(m)']\n",
    "    ax.plot(RSSI, '.')\n",
    "    line, = ax.plot(data_fit[0], 'k')\n",
    "    ax.set_xlabel('time (s)'), ax.set_ylabel('RSSI')\n",
    "    return line\n",
    "\n",
    "def get_max(data, data_type='str'):\n",
    "    max_dist  = np.max(data['Dist(m)'])\n",
    "    max_speed = np.max(data['GSpd(kmh)'])\n",
    "    max_alt   = np.max(data['Alt(m)'])\n",
    "    if data_type==\"str\":\n",
    "        max_dist  = str(max_dist)\n",
    "        max_speed = str(max_speed)\n",
    "        max_alt   = str(max_alt)\n",
    "    return max_dist, max_speed, max_alt"
   ]
  },
  {
   "cell_type": "code",
   "execution_count": 6,
   "metadata": {
    "ExecuteTime": {
     "end_time": "2020-12-15T18:03:34.011847Z",
     "start_time": "2020-12-15T18:03:33.813624Z"
    }
   },
   "outputs": [],
   "source": [
    "files = glob.glob('logs/*.csv')"
   ]
  },
  {
   "cell_type": "code",
   "execution_count": 7,
   "metadata": {
    "ExecuteTime": {
     "end_time": "2020-12-15T18:03:34.448587Z",
     "start_time": "2020-12-15T18:03:34.027805Z"
    }
   },
   "outputs": [],
   "source": [
    "# Get max stats\n",
    "max_dist_tot, max_speed_tot, max_alt_tot = 0, 0, 0\n",
    "for file in files:\n",
    "    data = pd.read_csv(file, sep=';')\n",
    "    new_dist, new_speed, new_alt = get_max(data, data_type='int')\n",
    "    max_dist_tot  = np.max([max_dist_tot,new_dist])\n",
    "    max_speed_tot = np.max([max_speed_tot,new_speed])\n",
    "    max_alt_tot   = np.max([max_alt_tot,new_alt])\n",
    "max_dist_tot  = str(max_dist_tot)\n",
    "max_speed_tot = str(max_speed_tot)\n",
    "max_alt_tot   = str(max_alt_tot)"
   ]
  },
  {
   "cell_type": "code",
   "execution_count": 44,
   "metadata": {
    "ExecuteTime": {
     "end_time": "2020-12-15T18:37:51.516119Z",
     "start_time": "2020-12-15T18:37:51.496140Z"
    }
   },
   "outputs": [],
   "source": [
    "class TelemetryData:\n",
    "    def __init__(self):\n",
    "        self.dist, self.rssi = [], []\n",
    "        self.lon, self.lat   = [], []\n",
    "        self.time = []\n",
    "        self.rssi_time, self.rssi_dist = [], []\n",
    "        self.dist, self.speed, self.alt = 0, 0, 0\n",
    "        self.max_dist, self.max_speed, self.max_alt = 0, 0, 0\n",
    "    def get_data(self, file):\n",
    "        data = pd.read_csv(file, sep=';')\n",
    "        data = data.interpolate(method='nearest', column=['GPS(lat)','GPS(lon)']).ffill().bfill()\n",
    "        dist, rssi = data['Dist(m)'], data['RSSI(dB)']\n",
    "        filt = (rssi != 0) & (dist != 0)\n",
    "        self.dist = dist[filt]\n",
    "        self.rssi = rssi[filt]\n",
    "        self.lon  = data['GPS(lon)'][filt]\n",
    "        self.lat  = data['GPS(lat)'][filt]\n",
    "        self.time = np.arange(len(self.rssi))\n",
    "        self.rssi_time, self.rssi_dist = get_rssi(self.rssi, self.dist)\n",
    "        self.speed, self.alt = data['GSpd(kmh)'][filt], data['Alt(m)'][filt]\n",
    "        self.max_dist, self.max_speed, self.max_alt = get_max(data)"
   ]
  },
  {
   "cell_type": "code",
   "execution_count": 45,
   "metadata": {
    "ExecuteTime": {
     "end_time": "2020-12-15T18:37:53.455520Z",
     "start_time": "2020-12-15T18:37:53.362873Z"
    }
   },
   "outputs": [],
   "source": [
    "# Initialize Data\n",
    "tlm = TelemetryData()\n",
    "tlm.get_data(files[0])"
   ]
  },
  {
   "cell_type": "code",
   "execution_count": 46,
   "metadata": {
    "ExecuteTime": {
     "end_time": "2020-12-15T18:37:55.353623Z",
     "start_time": "2020-12-15T18:37:55.342645Z"
    }
   },
   "outputs": [],
   "source": [
    "# MAIN COMPONENTS"
   ]
  },
  {
   "cell_type": "code",
   "execution_count": 47,
   "metadata": {
    "ExecuteTime": {
     "end_time": "2020-12-15T18:37:56.992650Z",
     "start_time": "2020-12-15T18:37:56.980682Z"
    }
   },
   "outputs": [],
   "source": [
    "out = widgets.Output()"
   ]
  },
  {
   "cell_type": "code",
   "execution_count": 48,
   "metadata": {
    "ExecuteTime": {
     "end_time": "2020-12-15T18:37:58.770401Z",
     "start_time": "2020-12-15T18:37:58.608666Z"
    }
   },
   "outputs": [],
   "source": [
    "# left - files\n",
    "uploader    = widgets.FileUpload(accept='.csv', multiple=True, layout=Layout(width='14vw'))\n",
    "file_select = widgets.Dropdown(options=[os.path.basename(f) for f in files], layout=Layout(width='14vw'))\n",
    "#if file_exist:\n",
    "#video       = widgets.Video.from_file(\"videos/Big.Buck.Bunny.mp4\", autoplay=False,layout=Layout(width='14vw'))\n",
    "left        = VBox(children=[uploader,file_select])#,video])\n",
    "\n",
    "# center - map and time slider\n",
    "my_map      = Map(basemap=basemaps.Esri.WorldImagery, center=(np.mean(tlm.lat), np.mean(tlm.lon)), zoom=16)\n",
    "icon_home   = AwesomeIcon(name='home', icon_color=\"white\", marker_color='black')\n",
    "marker_home = Marker(icon=icon_home, location=(tlm.lat.iloc[0], tlm.lon.iloc[0]))\n",
    "line_map    = Polyline(locations=[(x, y) for x, y in zip(tlm.lat, tlm.lon)], color = \"red\", fill=False, weight=2)\n",
    "time_slider = widgets.IntSlider(value=len(tlm.time), max=len(tlm.time), layout=Layout(flex='1.5 1 0%', width='auto'))\n",
    "play_button = widgets.Play(max=len(tlm.time))\n",
    "animation   = widgets.HBox([play_button, time_slider]) \n",
    "my_map.add_layer(marker_home)\n",
    "my_map.add_layer(line_map)\n",
    "widgets.jslink((play_button, 'value'), (time_slider, 'value'))\n",
    "center = VBox(children=[my_map, animation], layout=Layout(flex='1.5 1 0%', width='auto', height='80vh', align_content='center', justify_content=\"center\"))\n",
    "    \n",
    "# right - rssi graphs and records\n",
    "xs, ys  = bq.LinearScale(), bq.LinearScale()\n",
    "yax     = bq.Axis(scale=ys, label='RSSI', grid_lines='solid', orientation='vertical' )\n",
    "axis    = bq.Axis(scale=xs, label='Distance (m)', grid_lines='solid')\n",
    "tooltip = bq.Tooltip(fields=['x', 'y'], labels = ['dist','rssi'])\n",
    "points  = bq.Scatter(x=tlm.dist, y=tlm.rssi, scales={'x':xs,'y':ys}, default_size=20, labels=['data'], display_legend=True, tooltip=tooltip, unhovered_style={'opacity': 0.5})\n",
    "line    = bq.Lines(x=np.sort(tlm.dist), y=tlm.rssi_dist, scales={'x': xs, 'y': ys}, colors=['red'], labels=['fit'], display_legend=True) \n",
    "fig     = bq.Figure(marks=[points, line], axes=[axis, yax], layout=Layout(width='30vw', height = '45vh'))\n",
    "graph_button = widgets.ToggleButtons(options=['Time', 'Distance'], description='RSSI graph', value='Distance', disabled=False, button_style='')\n",
    "dist_max     = widgets.HTML(value=\"<b>Distance (m)</b> : \"+tlm.max_dist+\" / \"+max_dist_tot)\n",
    "speed_max    = widgets.HTML(value=\"<b>Speed (km/h)</b> : \"+tlm.max_speed+\" / \"+max_speed_tot)\n",
    "alt_max      = widgets.HTML(value=\"<b>Altitude (m)</b> : \"+tlm.max_alt+\" / \"+max_alt_tot)\n",
    "trophee = widgets.HTML('<center> <img src=\"images/trophy.jpg\" align=\"middle\" class=\"center\"> </center>')\n",
    "records = VBox(children=[dist_max, speed_max, alt_max], layout=Layout(flex='1 1 0%', align_items='center', border='solid 1px black'))\n",
    "right   = VBox(children=[graph_button, fig, trophee, records], layout=Layout(flex='1 1 0%', width='auto', height='80vh', align_items='center', flex_direction=\"column\"))"
   ]
  },
  {
   "cell_type": "code",
   "execution_count": 49,
   "metadata": {
    "ExecuteTime": {
     "end_time": "2020-12-15T18:38:00.497154Z",
     "start_time": "2020-12-15T18:38:00.490172Z"
    }
   },
   "outputs": [],
   "source": [
    "# INTERACTION"
   ]
  },
  {
   "cell_type": "code",
   "execution_count": 50,
   "metadata": {
    "ExecuteTime": {
     "end_time": "2020-12-15T18:38:02.080279Z",
     "start_time": "2020-12-15T18:38:02.050264Z"
    }
   },
   "outputs": [],
   "source": [
    "# function for updating all data : used withe slection and upload widgets\n",
    "@out.capture()\n",
    "def update_all(file):\n",
    "    with out:\n",
    "        tlm.get_data(file)\n",
    "        time_slider.max = len(tlm.time)\n",
    "        my_map.center   = np.mean(tlm.lat), np.mean(tlm.lon)\n",
    "        my_map.layers[1].location = (tlm.lat.iloc[0], tlm.lon.iloc[0])\n",
    "        my_map.layers[2].locations = [(x, y) for x, y in zip(tlm.lat, tlm.lon)]\n",
    "        if graph_button.value == \"Time\":\n",
    "            points.x, line.x = tlm.time, tlm.time\n",
    "            points.y, line.y = tlm.rssi, tlm.rssi_time\n",
    "        elif graph_button.value == \"Distance\":\n",
    "            points.x, line.x = tlm.dist, np.sort(tlm.dist)\n",
    "            points.y, line.y = tlm.rssi, tlm.rssi_dist \n",
    "        dist_max.value  = \"<b>Distance (m)</b> : \"+tlm.max_dist+\" / \"+max_dist_tot\n",
    "        speed_max.value = \"<b>Speed (km/h)</b> : \"+tlm.max_speed+\" / \"+max_speed_tot\n",
    "        alt_max.value   = \"<b>Altitude (m)</b> : \"+tlm.max_alt+\" / \"+max_alt_tot"
   ]
  },
  {
   "cell_type": "code",
   "execution_count": 51,
   "metadata": {
    "ExecuteTime": {
     "end_time": "2020-12-15T18:38:03.658571Z",
     "start_time": "2020-12-15T18:38:03.638952Z"
    }
   },
   "outputs": [],
   "source": [
    "@out.capture()\n",
    "def file_change(change):\n",
    "    with out:\n",
    "        update_all('logs/'+change['new'])\n",
    "file_select.observe(file_change, names='value')\n",
    "\n",
    "@out.capture()\n",
    "def upload_change(change):\n",
    "    with out:\n",
    "        uploaded_file = change['new']\n",
    "        file = io.BytesIO(next(iter(uploaded_file.values()))['content'])\n",
    "        update_all(file)\n",
    "uploader.observe(upload_change, names='value')\n",
    "\n",
    "@out.capture()\n",
    "def graph_change(change):\n",
    "    with out:\n",
    "        if change['new'] == 'Time':\n",
    "            points.x, line.x = tlm.time, tlm.time\n",
    "            points.y, line.y = tlm.rssi, tlm.rssi_time\n",
    "            axis.label = 'Time (s)'\n",
    "            tooltip.labels[0] = 'time'\n",
    "        elif change['new'] == 'Distance':\n",
    "            points.x, line.x = tlm.dist, np.sort(tlm.dist)\n",
    "            points.y, line.y = tlm.rssi, tlm.rssi_dist \n",
    "            axis.label = 'Distance (m)'\n",
    "            tooltip.labels[0] = 'dist'\n",
    "graph_button.observe(graph_change, names='value')\n",
    "\n",
    "@out.capture()\n",
    "def time_change(change):\n",
    "    with out:\n",
    "        last_time = change['new']\n",
    "        my_map.layers[2].locations = [(x, y) for x, y in zip(tlm.lat[:last_time], tlm.lon[:last_time])]\n",
    "        if graph_button.value == \"Time\":\n",
    "            points.x, line.x = tlm.time[:last_time], tlm.time[:last_time]\n",
    "            points.y, line.y = tlm.rssi[:last_time], tlm.rssi_time[:last_time]\n",
    "        elif graph_button.value == \"Distance\":\n",
    "            points.x = tlm.dist[:last_time]\n",
    "            points.y = tlm.rssi[:last_time]\n",
    "time_slider.observe(time_change, names='value')"
   ]
  },
  {
   "cell_type": "code",
   "execution_count": 52,
   "metadata": {
    "ExecuteTime": {
     "end_time": "2020-12-15T18:38:05.364456Z",
     "start_time": "2020-12-15T18:38:05.352489Z"
    }
   },
   "outputs": [],
   "source": [
    "# DISPLAY"
   ]
  },
  {
   "cell_type": "code",
   "execution_count": 53,
   "metadata": {
    "ExecuteTime": {
     "end_time": "2020-12-15T18:38:06.975565Z",
     "start_time": "2020-12-15T18:38:06.932894Z"
    },
    "scrolled": true
   },
   "outputs": [
    {
     "data": {
      "application/vnd.jupyter.widget-view+json": {
       "model_id": "1f3624f9c04d4967b8e69789d5f377ed",
       "version_major": 2,
       "version_minor": 0
      },
      "text/plain": [
       "HBox(children=(VBox(children=(FileUpload(value={}, accept='.csv', description='Upload', layout=Layout(width='1…"
      ]
     },
     "metadata": {},
     "output_type": "display_data"
    },
    {
     "data": {
      "application/vnd.jupyter.widget-view+json": {
       "model_id": "00d7c73470984404b9886b25c409c921",
       "version_major": 2,
       "version_minor": 0
      },
      "text/plain": [
       "Output()"
      ]
     },
     "metadata": {},
     "output_type": "display_data"
    }
   ],
   "source": [
    "display(HBox(children=[left, center, right]), out)"
   ]
  },
  {
   "cell_type": "code",
   "execution_count": 54,
   "metadata": {
    "ExecuteTime": {
     "end_time": "2020-12-15T18:38:08.865986Z",
     "start_time": "2020-12-15T18:38:08.853523Z"
    }
   },
   "outputs": [],
   "source": [
    "# 3D volume"
   ]
  },
  {
   "cell_type": "code",
   "execution_count": 55,
   "metadata": {
    "ExecuteTime": {
     "end_time": "2020-12-15T18:38:10.456910Z",
     "start_time": "2020-12-15T18:38:10.445013Z"
    }
   },
   "outputs": [],
   "source": [
    "#fig = ipv.figure(width=400, height=200,layout=Layout(width='14vw'))\n",
    "#ipv.style.use('minimal')\n",
    "#m = mesh.Mesh.from_file('stl/bixler.stl')\n",
    "#ipv.plot_trisurf(m.x.flatten(), m.z.flatten(), m.y.flatten(), triangles=np.arange(m.x.shape[0] * 3).reshape((m.x.shape[0], 3)), color=\"gray\")\n",
    "#ipv.squarelim()"
   ]
  },
  {
   "cell_type": "code",
   "execution_count": 56,
   "metadata": {
    "ExecuteTime": {
     "end_time": "2020-12-15T18:38:12.073589Z",
     "start_time": "2020-12-15T18:38:12.060534Z"
    }
   },
   "outputs": [],
   "source": [
    "# video"
   ]
  },
  {
   "cell_type": "code",
   "execution_count": 57,
   "metadata": {
    "ExecuteTime": {
     "end_time": "2020-12-15T18:38:13.697761Z",
     "start_time": "2020-12-15T18:38:13.679707Z"
    }
   },
   "outputs": [],
   "source": [
    "#video = widgets.Video.from_file(\"videos/Big.Buck.Bunny.mp4\", autoplay=False,layout=Layout(width='14vw'))"
   ]
  },
  {
   "cell_type": "code",
   "execution_count": null,
   "metadata": {},
   "outputs": [],
   "source": []
  },
  {
   "cell_type": "code",
   "execution_count": null,
   "metadata": {
    "ExecuteTime": {
     "end_time": "2020-12-15T18:38:15.323866Z",
     "start_time": "2020-12-15T18:38:15.310870Z"
    }
   },
   "outputs": [],
   "source": []
  },
  {
   "cell_type": "code",
   "execution_count": 67,
   "metadata": {
    "ExecuteTime": {
     "end_time": "2020-12-15T18:50:07.445300Z",
     "start_time": "2020-12-15T18:50:07.399428Z"
    }
   },
   "outputs": [
    {
     "data": {
      "application/vnd.jupyter.widget-view+json": {
       "model_id": "8f35a522581942958fcaf936ec044199",
       "version_major": 2,
       "version_minor": 0
      },
      "text/plain": [
       "VBox(children=(HTML(value='Dist  = 111 m'), HTML(value='Speed = 52.1 km/h'), HTML(value='Alt   = 29.0 m')), la…"
      ]
     },
     "metadata": {},
     "output_type": "display_data"
    }
   ],
   "source": [
    "dist_curr  = widgets.HTML(value='Dist  = '+str(tlm.dist.iloc[100])+' m')\n",
    "speed_curr = widgets.HTML(value='Speed = '+str(tlm.speed.iloc[100])+' km/h')\n",
    "alt_curr   = widgets.HTML(value='Alt   = '+str(tlm.alt.iloc[100])+ ' m')\n",
    "infos = VBox(children=[dist_curr, speed_curr, alt_curr], layout=Layout(border='solid 1px black'))\n",
    "infos"
   ]
  },
  {
   "cell_type": "code",
   "execution_count": null,
   "metadata": {
    "ExecuteTime": {
     "end_time": "2020-12-15T18:38:18.725535Z",
     "start_time": "2020-12-15T18:38:18.695618Z"
    }
   },
   "outputs": [],
   "source": []
  }
 ],
 "metadata": {
  "kernelspec": {
   "display_name": "Python 3",
   "language": "python",
   "name": "python3"
  },
  "language_info": {
   "codemirror_mode": {
    "name": "ipython",
    "version": 3
   },
   "file_extension": ".py",
   "mimetype": "text/x-python",
   "name": "python",
   "nbconvert_exporter": "python",
   "pygments_lexer": "ipython3",
   "version": "3.7.4"
  },
  "toc": {
   "base_numbering": 1,
   "nav_menu": {},
   "number_sections": true,
   "sideBar": true,
   "skip_h1_title": false,
   "title_cell": "Table of Contents",
   "title_sidebar": "Contents",
   "toc_cell": false,
   "toc_position": {},
   "toc_section_display": true,
   "toc_window_display": false
  },
  "varInspector": {
   "cols": {
    "lenName": 16,
    "lenType": 16,
    "lenVar": 40
   },
   "kernels_config": {
    "python": {
     "delete_cmd_postfix": "",
     "delete_cmd_prefix": "del ",
     "library": "var_list.py",
     "varRefreshCmd": "print(var_dic_list())"
    },
    "r": {
     "delete_cmd_postfix": ") ",
     "delete_cmd_prefix": "rm(",
     "library": "var_list.r",
     "varRefreshCmd": "cat(var_dic_list()) "
    }
   },
   "types_to_exclude": [
    "module",
    "function",
    "builtin_function_or_method",
    "instance",
    "_Feature"
   ],
   "window_display": false
  }
 },
 "nbformat": 4,
 "nbformat_minor": 4
}
